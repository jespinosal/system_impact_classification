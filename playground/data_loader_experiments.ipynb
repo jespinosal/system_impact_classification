{
 "cells": [
  {
   "cell_type": "code",
   "execution_count": 1,
   "metadata": {},
   "outputs": [],
   "source": [
    "import os\n",
    "import sys\n",
    "sys.path.append('c:/Users/Jonathan_Espinosa/Projects/novartis/system_impact_classification')"
   ]
  },
  {
   "cell_type": "code",
   "execution_count": 2,
   "metadata": {},
   "outputs": [],
   "source": [
    "from data_loader import DataMerger\n",
    "from data_parser import estimate_equipment_group_names"
   ]
  },
  {
   "cell_type": "code",
   "execution_count": 3,
   "metadata": {},
   "outputs": [
    {
     "name": "stdout",
     "output_type": "stream",
     "text": [
      "Mergering file equipment_data_site_1.xlsx\n",
      "Mergering file equipment_data_site_2.xlsx\n",
      "file exported as c:/Users/Jonathan_Espinosa/Projects/novartis/system_impact_classification/data\\merged_sites_table.xlsx\n"
     ]
    },
    {
     "data": {
      "text/html": [
       "<div>\n",
       "<style scoped>\n",
       "    .dataframe tbody tr th:only-of-type {\n",
       "        vertical-align: middle;\n",
       "    }\n",
       "\n",
       "    .dataframe tbody tr th {\n",
       "        vertical-align: top;\n",
       "    }\n",
       "\n",
       "    .dataframe thead th {\n",
       "        text-align: right;\n",
       "    }\n",
       "</style>\n",
       "<table border=\"1\" class=\"dataframe\">\n",
       "  <thead>\n",
       "    <tr style=\"text-align: right;\">\n",
       "      <th></th>\n",
       "      <th>Equipment Group ID</th>\n",
       "      <th>Equipment Group</th>\n",
       "      <th>Criteria 1</th>\n",
       "      <th>Criteria 2</th>\n",
       "      <th>Criteria 3</th>\n",
       "      <th>Criteria 4</th>\n",
       "      <th>Criteria 5</th>\n",
       "      <th>Criteria 6</th>\n",
       "      <th>Criteria 7</th>\n",
       "      <th>Criteria 8a</th>\n",
       "      <th>Criteria 8b</th>\n",
       "      <th>Site Name</th>\n",
       "    </tr>\n",
       "  </thead>\n",
       "  <tbody>\n",
       "    <tr>\n",
       "      <th>0</th>\n",
       "      <td>1</td>\n",
       "      <td>Boiler</td>\n",
       "      <td>Yes</td>\n",
       "      <td>No</td>\n",
       "      <td>Yes</td>\n",
       "      <td>No</td>\n",
       "      <td>Yes</td>\n",
       "      <td>No</td>\n",
       "      <td>Yes</td>\n",
       "      <td>Yes</td>\n",
       "      <td>No</td>\n",
       "      <td>ABC</td>\n",
       "    </tr>\n",
       "    <tr>\n",
       "      <th>1</th>\n",
       "      <td>2</td>\n",
       "      <td>Conveyor</td>\n",
       "      <td>No</td>\n",
       "      <td>Yes</td>\n",
       "      <td>No</td>\n",
       "      <td>Yes</td>\n",
       "      <td>No</td>\n",
       "      <td>Yes</td>\n",
       "      <td>No</td>\n",
       "      <td>No</td>\n",
       "      <td>Yes</td>\n",
       "      <td>ABC</td>\n",
       "    </tr>\n",
       "  </tbody>\n",
       "</table>\n",
       "</div>"
      ],
      "text/plain": [
       "   Equipment Group ID Equipment Group Criteria 1 Criteria 2 Criteria 3  \\\n",
       "0                   1          Boiler        Yes         No        Yes   \n",
       "1                   2        Conveyor         No        Yes         No   \n",
       "\n",
       "  Criteria 4 Criteria 5 Criteria 6 Criteria 7 Criteria 8a Criteria 8b  \\\n",
       "0         No        Yes         No        Yes         Yes          No   \n",
       "1        Yes         No        Yes         No          No         Yes   \n",
       "\n",
       "  Site Name  \n",
       "0       ABC  \n",
       "1       ABC  "
      ]
     },
     "execution_count": 3,
     "metadata": {},
     "output_type": "execute_result"
    }
   ],
   "source": [
    "data_path = 'c:/Users/Jonathan_Espinosa/Projects/novartis/system_impact_classification/data'\n",
    "data_merger = DataMerger(data_path)\n",
    "df_merged = data_merger()\n",
    "df_merged.head(2)"
   ]
  },
  {
   "cell_type": "code",
   "execution_count": 5,
   "metadata": {},
   "outputs": [
    {
     "name": "stdout",
     "output_type": "stream",
     "text": [
      "['Boiler' 'Conveyor' 'Furnace' 'Compressor' 'Mixer' 'Pump' 'Generator'\n",
      " 'Chiller' 'Valve' 'Fan' 'Blower' 'Heater' 'Dryer' 'Cooler' 'Turbine'\n",
      " 'Cooler' 'Turbine' 'Turbaie' 'Turvine']\n"
     ]
    }
   ],
   "source": [
    "equipment_names = data_merger.get_equipment_names(df_merged)\n",
    "print(equipment_names)"
   ]
  },
  {
   "cell_type": "code",
   "execution_count": 7,
   "metadata": {},
   "outputs": [
    {
     "name": "stdout",
     "output_type": "stream",
     "text": [
      "  equipment_group_name                                       equipments\n",
      "0      Heat Generation                        [Boiler, Furnace, Heater]\n",
      "1    Material Handling                                [Conveyor, Mixer]\n",
      "2       Fluid Movement  [Compressor, Pump, Chiller, Valve, Fan, Blower]\n",
      "3   Drying and Cooling                                  [Dryer, Cooler]\n",
      "4     Power Generation                             [Generator, Turbine]\n"
     ]
    }
   ],
   "source": [
    "df_group_names = estimate_equipment_group_names(equipment_names)\n",
    "print(df_group_names)"
   ]
  },
  {
   "cell_type": "code",
   "execution_count": 33,
   "metadata": {},
   "outputs": [
    {
     "name": "stderr",
     "output_type": "stream",
     "text": [
      "C:\\Users\\Jonathan_Espinosa\\AppData\\Local\\Temp\\ipykernel_28900\\1309078907.py:3: FutureWarning: DataFrame.replace without 'value' and with non-dict-like 'to_replace' is deprecated and will raise in a future version. Explicitly specify the new values instead.\n",
      "  df_merged_renamed = df_merged_renamed.replace()\n",
      "C:\\Users\\Jonathan_Espinosa\\AppData\\Local\\Temp\\ipykernel_28900\\1309078907.py:6: FutureWarning: Downcasting behavior in `replace` is deprecated and will be removed in a future version. To retain the old behavior, explicitly call `result.infer_objects(copy=False)`. To opt-in to the future behavior, set `pd.set_option('future.no_silent_downcasting', True)`\n",
      "  df_merged_renamed[cols_bool] = df_merged_renamed[cols_bool].replace(map_answers).astype(int)\n"
     ]
    },
    {
     "data": {
      "text/html": [
       "<div>\n",
       "<style scoped>\n",
       "    .dataframe tbody tr th:only-of-type {\n",
       "        vertical-align: middle;\n",
       "    }\n",
       "\n",
       "    .dataframe tbody tr th {\n",
       "        vertical-align: top;\n",
       "    }\n",
       "\n",
       "    .dataframe thead th {\n",
       "        text-align: right;\n",
       "    }\n",
       "</style>\n",
       "<table border=\"1\" class=\"dataframe\">\n",
       "  <thead>\n",
       "    <tr style=\"text-align: right;\">\n",
       "      <th></th>\n",
       "      <th>Criteria 1</th>\n",
       "      <th>Criteria 2</th>\n",
       "      <th>Criteria 3</th>\n",
       "      <th>Criteria 4</th>\n",
       "      <th>Criteria 5</th>\n",
       "      <th>Criteria 6</th>\n",
       "      <th>Criteria 7</th>\n",
       "      <th>Criteria 8a</th>\n",
       "      <th>Criteria 8b</th>\n",
       "    </tr>\n",
       "    <tr>\n",
       "      <th>equipment_group_name</th>\n",
       "      <th></th>\n",
       "      <th></th>\n",
       "      <th></th>\n",
       "      <th></th>\n",
       "      <th></th>\n",
       "      <th></th>\n",
       "      <th></th>\n",
       "      <th></th>\n",
       "      <th></th>\n",
       "    </tr>\n",
       "  </thead>\n",
       "  <tbody>\n",
       "    <tr>\n",
       "      <th>Drying and Cooling</th>\n",
       "      <td>0.666667</td>\n",
       "      <td>0.333333</td>\n",
       "      <td>0.666667</td>\n",
       "      <td>0.333333</td>\n",
       "      <td>0.666667</td>\n",
       "      <td>0.333333</td>\n",
       "      <td>0.666667</td>\n",
       "      <td>0.666667</td>\n",
       "      <td>0.333333</td>\n",
       "    </tr>\n",
       "    <tr>\n",
       "      <th>Fluid Movement</th>\n",
       "      <td>0.500000</td>\n",
       "      <td>0.500000</td>\n",
       "      <td>0.500000</td>\n",
       "      <td>0.500000</td>\n",
       "      <td>0.500000</td>\n",
       "      <td>0.500000</td>\n",
       "      <td>0.500000</td>\n",
       "      <td>0.500000</td>\n",
       "      <td>0.500000</td>\n",
       "    </tr>\n",
       "    <tr>\n",
       "      <th>Heat Generation</th>\n",
       "      <td>1.000000</td>\n",
       "      <td>0.000000</td>\n",
       "      <td>1.000000</td>\n",
       "      <td>0.000000</td>\n",
       "      <td>1.000000</td>\n",
       "      <td>0.000000</td>\n",
       "      <td>1.000000</td>\n",
       "      <td>1.000000</td>\n",
       "      <td>0.000000</td>\n",
       "    </tr>\n",
       "    <tr>\n",
       "      <th>Material Handling</th>\n",
       "      <td>0.500000</td>\n",
       "      <td>0.500000</td>\n",
       "      <td>0.500000</td>\n",
       "      <td>0.500000</td>\n",
       "      <td>0.500000</td>\n",
       "      <td>0.500000</td>\n",
       "      <td>0.500000</td>\n",
       "      <td>0.500000</td>\n",
       "      <td>0.500000</td>\n",
       "    </tr>\n",
       "    <tr>\n",
       "      <th>Power Generation</th>\n",
       "      <td>0.000000</td>\n",
       "      <td>1.000000</td>\n",
       "      <td>0.000000</td>\n",
       "      <td>1.000000</td>\n",
       "      <td>0.000000</td>\n",
       "      <td>1.000000</td>\n",
       "      <td>0.000000</td>\n",
       "      <td>0.000000</td>\n",
       "      <td>1.000000</td>\n",
       "    </tr>\n",
       "  </tbody>\n",
       "</table>\n",
       "</div>"
      ],
      "text/plain": [
       "                      Criteria 1  Criteria 2  Criteria 3  Criteria 4  \\\n",
       "equipment_group_name                                                   \n",
       "Drying and Cooling      0.666667    0.333333    0.666667    0.333333   \n",
       "Fluid Movement          0.500000    0.500000    0.500000    0.500000   \n",
       "Heat Generation         1.000000    0.000000    1.000000    0.000000   \n",
       "Material Handling       0.500000    0.500000    0.500000    0.500000   \n",
       "Power Generation        0.000000    1.000000    0.000000    1.000000   \n",
       "\n",
       "                      Criteria 5  Criteria 6  Criteria 7  Criteria 8a  \\\n",
       "equipment_group_name                                                    \n",
       "Drying and Cooling      0.666667    0.333333    0.666667     0.666667   \n",
       "Fluid Movement          0.500000    0.500000    0.500000     0.500000   \n",
       "Heat Generation         1.000000    0.000000    1.000000     1.000000   \n",
       "Material Handling       0.500000    0.500000    0.500000     0.500000   \n",
       "Power Generation        0.000000    1.000000    0.000000     0.000000   \n",
       "\n",
       "                      Criteria 8b  \n",
       "equipment_group_name               \n",
       "Drying and Cooling       0.333333  \n",
       "Fluid Movement           0.500000  \n",
       "Heat Generation          0.000000  \n",
       "Material Handling        0.500000  \n",
       "Power Generation         1.000000  "
      ]
     },
     "execution_count": 33,
     "metadata": {},
     "output_type": "execute_result"
    }
   ],
   "source": [
    "df_names_exploded = df_group_names.explode('equipments')\n",
    "df_merged_renamed = df_merged.merge(df_names_exploded, left_on='Equipment Group', right_on='equipments', how='left')\n",
    "df_merged_renamed = df_merged_renamed.replace()\n",
    "cols_bool = ['Criteria 1', 'Criteria 2', 'Criteria 3', 'Criteria 4', 'Criteria 5', 'Criteria 6', 'Criteria 7', 'Criteria 8a', 'Criteria 8b']\n",
    "map_answers = {'Yes':1, 'No': 0}\n",
    "df_merged_renamed[cols_bool] = df_merged_renamed[cols_bool].replace(map_answers).astype(int)\n",
    "df_merged_renamed[cols_bool+['equipment_group_name']].groupby(['equipment_group_name']).mean()"
   ]
  },
  {
   "cell_type": "code",
   "execution_count": 34,
   "metadata": {},
   "outputs": [],
   "source": [
    "# df_merged[cols_bool+['Equipment Group']].groupby(['Equipment Group']).mean()"
   ]
  },
  {
   "cell_type": "code",
   "execution_count": null,
   "metadata": {},
   "outputs": [],
   "source": []
  }
 ],
 "metadata": {
  "kernelspec": {
   "display_name": "myenv",
   "language": "python",
   "name": "python3"
  },
  "language_info": {
   "codemirror_mode": {
    "name": "ipython",
    "version": 3
   },
   "file_extension": ".py",
   "mimetype": "text/x-python",
   "name": "python",
   "nbconvert_exporter": "python",
   "pygments_lexer": "ipython3",
   "version": "3.11.0"
  }
 },
 "nbformat": 4,
 "nbformat_minor": 2
}
