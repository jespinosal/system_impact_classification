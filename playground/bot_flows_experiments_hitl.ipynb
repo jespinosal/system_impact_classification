{
 "cells": [
  {
   "cell_type": "markdown",
   "metadata": {},
   "source": [
    "# Experiments to build AI conversational tools\n",
    "\n",
    "### Uses cases:\n",
    "\n",
    "* I/O definitions:\n",
    "    * Input: \n",
    "        - Use case 1: requires name of \"equipment\" to identify \"equipmetn group\"\n",
    "        - Use case 2: requines Yes/No answers to navigate on tree of questions\n",
    "    * Output:\n",
    "        - Use case 1: Output table with criteria columns 1 to 7 and 8a \n",
    "        - Use case 2: Output table with criteria columns 1 to 7, 8a and also 8b\n",
    "\n",
    "* Use case 1: RAG compute probs of historical records:\n",
    "    * System ask to SME for equipment to start analysis (system has some tolerance to admit synonims and misspeling)\n",
    "    * System classify equipment in one of the known equipment group categories in DB, reporting to user equipment group\n",
    "    * System reports to user stadistics for 1 to 8a question based on historical data of equipment group\n",
    "\n",
    "* Use case 2: Question 8a and 8b\n",
    "    * Use case 2 started after use case 1 is done.\n",
    "    * If questions 8a is mojoritary \"YES\" for given equipment (more than 50% of historical records report YES) proceed with questionay, else end use cases with 8b field 'NO'\n",
    "    * Doesn't matter the results from 1 o 7, if 8a question is yes we need to proceed with tree evaluation \n",
    "    * Questionary:\n",
    "        - Ask follow-up questions in order, if user reply \"NO\"  end use cases with 8b field 'NO', if Answe is YES continue to next question. \n",
    "        - If usere reply \"YES\" to all question  end use cases with 8b field 'YES'\n",
    "\n",
    "* Use case 3:\n",
    "    * Run this uses case once uses Case 1 and Use case 2 are done.\n",
    "    * Take from use case 1 answers 1 to 8a\n",
    "    * Take from use case 2 answer 8b\n",
    "    * Summarize all answer in one table and show final result with user\n",
    "\n",
    "\n",
    "* UI requirements:\n",
    "    * Chat window to get user inputs\n",
    "    * Chat window to visualize LLM answers\n",
    "    * Button to upload new files??  (optional)\n",
    "    * Button to run offline task to pre compute equipment probs?? (optional)\n"
   ]
  },
  {
   "cell_type": "code",
   "execution_count": 1,
   "metadata": {},
   "outputs": [
    {
     "name": "stdout",
     "output_type": "stream",
     "text": [
      "c:\\Users\\Jonathan_Espinosa\\Projects\\novartis\\system_impact_classification\\playground\n",
      "c:\\Users\\Jonathan_Espinosa\\Projects\\novartis\\system_impact_classification\n"
     ]
    }
   ],
   "source": [
    "import os\n",
    "print(os.getcwd())\n",
    "os.chdir(\"c:/Users/Jonathan_Espinosa/Projects/novartis/system_impact_classification\")\n",
    "print(os.getcwd())"
   ]
  },
  {
   "cell_type": "code",
   "execution_count": 2,
   "metadata": {},
   "outputs": [],
   "source": [
    "import os\n",
    "from io import StringIO\n",
    "from typing import List, Optional, Annotated\n",
    "from typing_extensions import TypedDict\n",
    "from operator import add\n",
    "import pandas as pd\n",
    "from dotenv import load_dotenv\n",
    "from langchain.tools import  tool\n",
    "from langchain_openai import AzureChatOpenAI\n",
    "from langchain_core.messages import HumanMessage\n",
    "from langchain_core.messages import HumanMessage, AIMessage, SystemMessage, ToolMessage\n",
    "from langgraph.graph.message import add_messages\n",
    "from langgraph.graph import END, START, StateGraph, MessagesState\n",
    "from langgraph.errors import NodeInterrupt"
   ]
  },
  {
   "cell_type": "code",
   "execution_count": 3,
   "metadata": {},
   "outputs": [],
   "source": [
    "from config import config\n",
    "from custom_rag import get_equipment_scores"
   ]
  },
  {
   "cell_type": "code",
   "execution_count": 4,
   "metadata": {},
   "outputs": [],
   "source": [
    "load_dotenv()\n",
    "AZURE_OPENAI_API_VERSION = os.getenv(\"AZURE_OPENAI_API_VERSION\")\n",
    "AZURE_OPENAI_ENDPOINT = os.getenv(\"AZURE_OPENAI_ENDPOINT\") \n",
    "AZURE_OPENAI_API_KEY = os.getenv(\"AZURE_OPENAI_API_KEY\")\n",
    "AZURE_OPENAI_CHAT_DEPLOYMENT_NAME = os.getenv(\"AZURE_OPENAI_CHAT_DEPLOYMENT_NAME\") \n",
    "\n",
    "llm = AzureChatOpenAI(\n",
    "    openai_api_version=os.environ[\"AZURE_OPENAI_API_VERSION\"],\n",
    "    azure_deployment=os.environ[\"AZURE_OPENAI_CHAT_DEPLOYMENT_NAME\"],\n",
    "    temperature=0,\n",
    "    max_tokens=None,\n",
    "    timeout=None,\n",
    "    max_retries=2,\n",
    ")"
   ]
  },
  {
   "cell_type": "code",
   "execution_count": 5,
   "metadata": {},
   "outputs": [],
   "source": [
    "# The structure of the logs\n",
    "\"\"\"\n",
    "class EntryGraphState(TypedDict):\n",
    "    id: str\n",
    "    counter: int = 0\n",
    "    clinical_history: Optional[str]\n",
    "    messages_human: Annotated[List[HumanMessage], add_messages]\n",
    "    #messages_agent: Annotated[List[str], add]\n",
    "    context: Optional[List[str]] # also Union[]\n",
    "    id_trials_valid: Annotated[List[str], add]\n",
    "    conversation_history: Annotated[List[SystemMessage|HumanMessage|AIMessage|ToolMessage], add_messages] # add_messages\n",
    "    role_game_history: Annotated[List[HumanMessage|AIMessage], add_messages] \n",
    "\"\"\"\n",
    "\n",
    "class AgentState(TypedDict):\n",
    "    stage: int\n",
    "    equipment: str\n",
    "    human_message: str\n",
    "    ai_message: str\n",
    "    criteria_8a_status: bool\n",
    "    criteria_8b_status: bool = False # Default doens't work need to update value in Node @todo check how to do \n",
    "    df_output: str # # pandas is not compatible \"DataFrame is not serializable\"\n",
    "    current_question_id: int = 0\n",
    "\n"
   ]
  },
  {
   "cell_type": "code",
   "execution_count": null,
   "metadata": {},
   "outputs": [],
   "source": [
    "\n",
    "def df_string_encoder_decoder(df=None, df_str= None):\n",
    "    # Step required to des-serialzie str DF. Cols should avoid whitespaces\n",
    "    if df is None and isinstance(df_str, str):\n",
    "        print('decoding str to pandas')\n",
    "        df = pd.read_csv(StringIO(df_str), sep='\\s+')\n",
    "        df['equipment_group_name'] = df['equipment_group_name'].apply(lambda x: x.replace(\"_\", \" \"))\n",
    "        df.columns = [col.replace(\"_\", \" \") for col in df.columns]\n",
    "        return df\n",
    "    elif isinstance(df, pd.DataFrame) and df_str is None:\n",
    "        print('encoding str to pandas')\n",
    "        df.columns = [col.replace(\" \", \"_\") for col in df.columns]\n",
    "        df['equipment_group_name'] = df['equipment_group_name'].apply(lambda x: x.replace(\" \", '_'))\n",
    "        df_str = df.to_string(index=False)\n",
    "        return df_str\n",
    "    else:\n",
    "        raise(TypeError, \"provide a valid pandas data frame or string parsed version\")\n",
    "        \n",
    "\n",
    "def node_get_human_equipment(state: AgentState):\n",
    "    #@todo add regex for alphabetic - Camell case - Add Guardrails?? -\n",
    "    print('-----------Node get human equipment-------------------')\n",
    "    equipment = state['equipment'].strip()\n",
    "    stage = state['stage'] + 1\n",
    "    equipment =  state['equipment']\n",
    "    return {'equipment': equipment, 'stage': stage, 'current_question_id':0, 'criteria_8b_status':False }# Default 8B false and current_question_id=0 as not possinle to setup default value \n",
    "\n",
    "def node_rag(state:AgentState):\n",
    "    print('-----------Node RAG-------------------')\n",
    "    user_equipment = state['equipment']\n",
    "    stage = state['stage'] + 1\n",
    "    print(f\"RAG for input: {user_equipment}\")\n",
    "    df_equipment_score = get_equipment_scores(user_equipment=user_equipment)\n",
    "    print(\"RAG Output:\",df_equipment_score)\n",
    "    value_8a = True if df_equipment_score['Criteria 8a'].values[0]>0.5 else False\n",
    "    df_equipment_score_str = df_string_encoder_decoder(df=df_equipment_score)\n",
    "    return {'df_output': df_equipment_score_str,  'criteria_8a_status': value_8a, 'stage': stage, } \n",
    "\n",
    "def eval_criteria_8a(state:AgentState):\n",
    "    print(\"---Step 3---\")\n",
    "    if state['criteria_8a_status']:\n",
    "        return 'criteria_8a_is_true'\n",
    "    else:\n",
    "        return 'criteria_8a_is_false'\n",
    "    \n",
    "\n",
    "def node_question_1(state: AgentState):\n",
    "    print('-----------Node question-------------------')\n",
    "    stage = state['stage'] + 1\n",
    "    current_question_id = state['current_question_id']\n",
    "    ai_message = \"1. The issue is related to IT protocol 00x1?\"\n",
    "    print(f\"Question {current_question_id}: {ai_message}\")\n",
    "    current_question_id = 1\n",
    "    return {'ai_message': ai_message, 'current_question_id':current_question_id, 'stage': stage}\n",
    "\n",
    "def eval_question_1(state: AgentState):\n",
    "    human_answer = state['human_message']\n",
    "    if human_answer == 'yes':\n",
    "        return 'yes'\n",
    "    else:\n",
    "        return 'no'\n",
    "\n",
    "def node_question_2(state: AgentState):\n",
    "    print('-----------Node question-------------------')\n",
    "    stage = state['stage'] + 1\n",
    "    current_question_id = state['current_question_id']\n",
    "    ai_message = \"2. The system reported temperature over 15 Celcius degree?\"\n",
    "    print(f\"Question {current_question_id}: {ai_message}\")\n",
    "    current_question_id = 2\n",
    "    return {'ai_message': ai_message, 'current_question_id':current_question_id, 'stage': stage}\n",
    "\n",
    "def eval_question_2(state: AgentState):\n",
    "    human_answer = state['human_message']\n",
    "    if human_answer == 'yes':\n",
    "        return 'yes'\n",
    "    else:\n",
    "        return 'no'\n",
    "\n",
    "def node_question_3(state: AgentState):\n",
    "    print('-----------Node question-------------------')\n",
    "    stage = state['stage'] + 1 \n",
    "    ai_message = \"3. The system error was reported less than 24 hours ago??\"\n",
    "    print(f\"Question {current_question_id}: {ai_message}\")\n",
    "    current_question_id = 3\n",
    "    return {'ai_message': ai_message, 'current_question_id':current_question_id, 'stage': stage}\n",
    "\n",
    "def eval_question_3(state: AgentState):\n",
    "    human_answer = state['human_message']\n",
    "    if human_answer == 'yes':\n",
    "        return 'yes'\n",
    "    else:\n",
    "        return 'no'\n",
    "    \n",
    "def node_question_4(state: AgentState):\n",
    "    print('-----------Node question-------------------')\n",
    "    stage = state['stage'] + 1 \n",
    "    ai_message = \"4. The system error affects equipment XXY\"\n",
    "    print(f\"Question {current_question_id}: {ai_message}\")\n",
    "    current_question_id = 4\n",
    "    return {'ai_message': ai_message, 'current_question_id':current_question_id, 'stage': stage}\n",
    "\n",
    "def node_update_8b(state:AgentState):\n",
    "    last_human_message = state['human_message']\n",
    "    criteria_8b_status = True if last_human_message=='yes' else False\n",
    "    return {'criteria_8b_status': criteria_8b_status}\n",
    "\n",
    "\n",
    "def node_parse_output(state:AgentState):\n",
    "    print(\"---Step 6---\")\n",
    "    stage = state['stage'] + 1\n",
    "    df_output_str = state['df_output']\n",
    "    df_output = df_string_encoder_decoder(df_str=df_output_str)\n",
    "    df_output['Criteria 8a'] = [state['criteria_8a_status']]\n",
    "    df_output['Criteria 8b'] =  [state['criteria_8b_status']]\n",
    "    print('-----------Node output-------------------')\n",
    "    df_output_str = df_string_encoder_decoder(df=df_output)\n",
    "    print(df_output)\n",
    "    return {'df_output': df_output_str, 'stage': stage} \n"
   ]
  },
  {
   "cell_type": "code",
   "execution_count": 7,
   "metadata": {},
   "outputs": [
    {
     "data": {
      "text/plain": [
       "\"\\nfrom io import StringIO\\ndf = pd.read_csv('data_processed\\\\equipment_group_probs.csv')\\ndf_encoded = df_string_encoder_decoder(df=df, df_str=None)\\nprint(type(df_encoded))\\nprint(df_encoded)\\ndf_decoded = df_string_encoder_decoder(df=None, df_str=df_encoded)\\nprint(type(df_decoded))\\nprint(df_decoded)\\n\""
      ]
     },
     "execution_count": 7,
     "metadata": {},
     "output_type": "execute_result"
    }
   ],
   "source": [
    "\"\"\"\n",
    "from io import StringIO\n",
    "df = pd.read_csv('data_processed\\equipment_group_probs.csv')\n",
    "df_encoded = df_string_encoder_decoder(df=df, df_str=None)\n",
    "print(type(df_encoded))\n",
    "print(df_encoded)\n",
    "df_decoded = df_string_encoder_decoder(df=None, df_str=df_encoded)\n",
    "print(type(df_decoded))\n",
    "print(df_decoded)\n",
    "\"\"\"\n"
   ]
  },
  {
   "cell_type": "markdown",
   "metadata": {},
   "source": [
    "## 1. FLOW Version 1"
   ]
  },
  {
   "cell_type": "code",
   "execution_count": null,
   "metadata": {},
   "outputs": [
    {
     "data": {
      "text/plain": [
       "<langgraph.graph.state.StateGraph at 0x1e782d2c510>"
      ]
     },
     "execution_count": 21,
     "metadata": {},
     "output_type": "execute_result"
    }
   ],
   "source": [
    "# Node definitions\n",
    "builder = StateGraph(AgentState)\n",
    "builder.add_node(\"node_get_human_equipment\", node_get_human_equipment)\n",
    "builder.add_node(\"node_rag\", node_rag)\n",
    "builder.add_node(\"node_question_1\", node_question_1)\n",
    "builder.add_node(\"node_question_2\", node_question_2)\n",
    "builder.add_node(\"node_question_3\", node_question_3)\n",
    "builder.add_node(\"node_question_4\", node_question_4)\n",
    "builder.add_node(\"node_update_8b\", node_update_8b)\n",
    "builder.add_node(\"node_parse_output\", node_parse_output)\n",
    "\n",
    "# Node edges:\n",
    "builder.add_edge(START, \"node_get_human_equipment\")\n",
    "builder.add_edge(\"node_get_human_equipment\", \"node_rag\")\n",
    "builder.add_conditional_edges(\"node_rag\", eval_criteria_8a, {'criteria_8a_is_true': \"node_question_1\",  \"criteria_8a_is_false\": 'node_update_8b'})\n",
    "builder.add_conditional_edges(\"node_question_1\", eval_question_1, {'yes': \"node_question_3\",  \"no\": \"node_question_2\"})\n",
    "builder.add_conditional_edges(\"node_question_2\", eval_question_2, {'yes': \"node_question_3\",  \"no\": \"node_update_8b\"})\n",
    "builder.add_conditional_edges(\"node_question_3\", eval_question_3, {'yes': \"node_question_4\",  \"no\": \"node_update_8b\"})\n",
    "builder.add_edge(\"node_question_4\", \"node_update_8b\")\n",
    "builder.add_edge(\"node_update_8b\", \"node_parse_output\")\n",
    "builder.add_edge(\"node_parse_output\", END)\n"
   ]
  },
  {
   "cell_type": "code",
   "execution_count": 9,
   "metadata": {},
   "outputs": [
    {
     "data": {
      "image/jpeg": "[encoded data removed]",
      "text/plain": [
       "<IPython.core.display.Image object>"
      ]
     },
     "metadata": {},
     "output_type": "display_data"
    }
   ],
   "source": [
    "from IPython.display import Image, display\n",
    "from langgraph.checkpoint.memory import MemorySaver\n",
    "\n",
    "# You MUST use a checkpoiner when using breakpoints. This is because your graph needs to be able to resume execution. (https://langchain-ai.github.io/langgraph/concepts/low_level/#configuration)\n",
    "memory = MemorySaver()\n",
    "#graph = builder.compile()\n",
    "graph = builder.compile(checkpointer=memory, interrupt_before=[\"node_question_1\", \"node_question_2\", \"node_question_3\", \"node_question_4\"]) #   interrupt_before=['human_feedback'])\n",
    "\n",
    "\n",
    "# View\n",
    "display(Image(graph.get_graph(xray=1).draw_mermaid_png()))"
   ]
  },
  {
   "cell_type": "code",
   "execution_count": 10,
   "metadata": {},
   "outputs": [
    {
     "name": "stdout",
     "output_type": "stream",
     "text": [
      "{'stage': 0, 'equipment': 'Coler'}\n",
      "-----------Node get human equipment-------------------\n",
      "{'stage': 1, 'equipment': 'Coler', 'criteria_8b_status': False, 'current_question_id': 0}\n",
      "-----------Node RAG-------------------\n",
      "RAG for input: Coler\n",
      "Equipment category analysis:  equipment_group_name='Cooling' new_equipment='Coler' classification_score=80\n",
      "RAG Output:   equipment_group_name  Criteria 1  Criteria 2  Criteria 3  Criteria 4  \\\n",
      "1              Cooling         1.0         0.0         1.0         0.0   \n",
      "\n",
      "   Criteria 5  Criteria 6  Criteria 7  Criteria 8a  Criteria 8b equipment_name  \n",
      "1         1.0         0.0         1.0          1.0          0.0          Coler  \n",
      "encoding str to pandas\n",
      "---Step 3---\n",
      "{'stage': 2, 'equipment': 'Coler', 'criteria_8a_status': True, 'criteria_8b_status': False, 'df_output': 'equipment_group_name  Criteria_1  Criteria_2  Criteria_3  Criteria_4  Criteria_5  Criteria_6  Criteria_7  Criteria_8a  Criteria_8b equipment_name\\n             Cooling         1.0         0.0         1.0         0.0         1.0         0.0         1.0          1.0          0.0          Coler', 'current_question_id': 0}\n"
     ]
    }
   ],
   "source": [
    "\n",
    "config = {\"configurable\": {\"thread_id\": \"1\"}}\n",
    "#graph.invoke({\"stage\":0, \"equipment\":\"Freezer\", 'human_message': False}, config)\n",
    "# Cooling 8a-->1     Drying 8a->0\n",
    "#result = graph.invoke({\"stage\":0, \"equipment\":\"Coler\", \"current_question_id\":0 }, config) \n",
    "#equipment = input(\"Hi I'm your AI asssistant. Please indicate the equipment to review\")\n",
    "initial_input = {\"stage\":0, \"equipment\":\"Coler\"}\n",
    "for event in graph.stream(initial_input, config, stream_mode=\"values\"):\n",
    "    print(event)"
   ]
  },
  {
   "cell_type": "code",
   "execution_count": 11,
   "metadata": {},
   "outputs": [
    {
     "data": {
      "text/plain": [
       "'node_question_1'"
      ]
     },
     "execution_count": 11,
     "metadata": {},
     "output_type": "execute_result"
    }
   ],
   "source": [
    "graph.get_state(config).next[0]"
   ]
  },
  {
   "cell_type": "code",
   "execution_count": 13,
   "metadata": {},
   "outputs": [
    {
     "data": {
      "text/plain": [
       "{'configurable': {'thread_id': '1',\n",
       "  'checkpoint_ns': '',\n",
       "  'checkpoint_id': '1ef9ac88-866b-6265-8003-5fd63900a517'}}"
      ]
     },
     "execution_count": 13,
     "metadata": {},
     "output_type": "execute_result"
    }
   ],
   "source": [
    "graph.update_state(config, {\"human_message\": 'no'}, as_node=\"node_question_1\")"
   ]
  },
  {
   "cell_type": "code",
   "execution_count": null,
   "metadata": {},
   "outputs": [
    {
     "name": "stdout",
     "output_type": "stream",
     "text": [
      "StateSnapshot(values={'stage': 2, 'equipment': 'Coler', 'human_message': 'no', 'criteria_8a_status': True, 'criteria_8b_status': False, 'df_output': 'equipment_group_name  Criteria_1  Criteria_2  Criteria_3  Criteria_4  Criteria_5  Criteria_6  Criteria_7  Criteria_8a  Criteria_8b equipment_name\\n             Cooling         1.0         0.0         1.0         0.0         1.0         0.0         1.0          1.0          0.0          Coler', 'current_question_id': 0}, next=('node_question_2',), config={'configurable': {'thread_id': '1', 'checkpoint_ns': '', 'checkpoint_id': '1ef9ac68-786b-67ea-8003-78587a9f7dc9'}}, metadata={'source': 'update', 'step': 3, 'writes': {'node_question_1': {'human_message': 'no'}}, 'parents': {}}, created_at='2024-11-04T16:04:53.972989+00:00', parent_config={'configurable': {'thread_id': '1', 'checkpoint_ns': '', 'checkpoint_id': '1ef9ac52-f4c6-6602-8002-4b2a3b760bfc'}}, tasks=(PregelTask(id='1b7a467d-f3a2-0f3b-c981-a0dfd800d4a4', name='node_question_2', path=('__pregel_pull', 'node_question_2'), error=None, interrupts=(), state=None, result=None),))\n",
      "('node_question_2',)\n"
     ]
    }
   ],
   "source": [
    "print(graph.get_state(config))\n",
    "print(graph.get_state(config).next)"
   ]
  },
  {
   "cell_type": "code",
   "execution_count": 14,
   "metadata": {},
   "outputs": [
    {
     "name": "stdout",
     "output_type": "stream",
     "text": [
      "{'stage': 2, 'equipment': 'Coler', 'human_message': 'no', 'criteria_8a_status': True, 'criteria_8b_status': False, 'df_output': 'equipment_group_name  Criteria_1  Criteria_2  Criteria_3  Criteria_4  Criteria_5  Criteria_6  Criteria_7  Criteria_8a  Criteria_8b equipment_name\\n             Cooling         1.0         0.0         1.0         0.0         1.0         0.0         1.0          1.0          0.0          Coler', 'current_question_id': 0}\n",
      "-----------Node question-------------------\n",
      "Question 0: 2. The system reported temperature over 15 Celcius degree?\n",
      "{'stage': 3, 'equipment': 'Coler', 'human_message': 'no', 'ai_message': '2. The system reported temperature over 15 Celcius degree?', 'criteria_8a_status': True, 'criteria_8b_status': False, 'df_output': 'equipment_group_name  Criteria_1  Criteria_2  Criteria_3  Criteria_4  Criteria_5  Criteria_6  Criteria_7  Criteria_8a  Criteria_8b equipment_name\\n             Cooling         1.0         0.0         1.0         0.0         1.0         0.0         1.0          1.0          0.0          Coler', 'current_question_id': 2}\n",
      "{'stage': 3, 'equipment': 'Coler', 'human_message': 'no', 'ai_message': '2. The system reported temperature over 15 Celcius degree?', 'criteria_8a_status': True, 'criteria_8b_status': False, 'df_output': 'equipment_group_name  Criteria_1  Criteria_2  Criteria_3  Criteria_4  Criteria_5  Criteria_6  Criteria_7  Criteria_8a  Criteria_8b equipment_name\\n             Cooling         1.0         0.0         1.0         0.0         1.0         0.0         1.0          1.0          0.0          Coler', 'current_question_id': 2}\n",
      "---Step 6---\n",
      "decoding str to pandas\n",
      "-----------Node output-------------------\n",
      "encoding str to pandas\n",
      "  equipment_group_name  Criteria_1  Criteria_2  Criteria_3  Criteria_4  \\\n",
      "0              Cooling         1.0         0.0         1.0         0.0   \n",
      "\n",
      "   Criteria_5  Criteria_6  Criteria_7  Criteria_8a  Criteria_8b equipment_name  \n",
      "0         1.0         0.0         1.0         True        False          Coler  \n",
      "{'stage': 4, 'equipment': 'Coler', 'human_message': 'no', 'ai_message': '2. The system reported temperature over 15 Celcius degree?', 'criteria_8a_status': True, 'criteria_8b_status': False, 'df_output': 'equipment_group_name  Criteria_1  Criteria_2  Criteria_3  Criteria_4  Criteria_5  Criteria_6  Criteria_7  Criteria_8a  Criteria_8b equipment_name\\n             Cooling         1.0         0.0         1.0         0.0         1.0         0.0         1.0         True        False          Coler', 'current_question_id': 2}\n"
     ]
    }
   ],
   "source": [
    "for event in graph.stream(None, config, stream_mode=\"values\"):\n",
    "    print(event)"
   ]
  },
  {
   "cell_type": "code",
   "execution_count": 19,
   "metadata": {},
   "outputs": [
    {
     "data": {
      "text/plain": [
       "StateSnapshot(values={'stage': 4, 'equipment': 'Coler', 'human_message': 'no', 'ai_message': '2. The system reported temperature over 15 Celcius degree?', 'criteria_8a_status': True, 'criteria_8b_status': False, 'df_output': 'equipment_group_name  Criteria_1  Criteria_2  Criteria_3  Criteria_4  Criteria_5  Criteria_6  Criteria_7  Criteria_8a  Criteria_8b equipment_name\\n             Cooling         1.0         0.0         1.0         0.0         1.0         0.0         1.0         True        False          Coler', 'current_question_id': 2}, next=(), config={'configurable': {'thread_id': '1', 'checkpoint_ns': '', 'checkpoint_id': '1ef9ac88-ad27-6495-8006-22377ba9beb2'}}, metadata={'source': 'loop', 'writes': {'node_parse_output': {'stage': 4, 'df_output': 'equipment_group_name  Criteria_1  Criteria_2  Criteria_3  Criteria_4  Criteria_5  Criteria_6  Criteria_7  Criteria_8a  Criteria_8b equipment_name\\n             Cooling         1.0         0.0         1.0         0.0         1.0         0.0         1.0         True        False          Coler'}}, 'step': 6, 'parents': {}}, created_at='2024-11-04T16:19:18.495963+00:00', parent_config={'configurable': {'thread_id': '1', 'checkpoint_ns': '', 'checkpoint_id': '1ef9ac88-ad01-654d-8005-8538310dcfb1'}}, tasks=())"
      ]
     },
     "execution_count": 19,
     "metadata": {},
     "output_type": "execute_result"
    }
   ],
   "source": [
    "graph.get_state(config)"
   ]
  },
  {
   "cell_type": "code",
   "execution_count": null,
   "metadata": {},
   "outputs": [],
   "source": [
    "#entrada = input(\"whats your name\")\n",
    "#print(entrada)\n",
    "\n",
    "# Idea use only one evla\n",
    "questions = {'question_1': 'This is the question 1', \n",
    "             'question_2': 'Here the question 2', \n",
    "             'question_3': 'there is question 3', \n",
    "             'question_4': 'It is querstion #4'}\n",
    "\n",
    "question_edges = { # Also , as output a need next node and final answe (it is already on the key)\n",
    "    'question_1': {'yes': 'question_3',  'no': 'quesion_2'},\n",
    "    'question_2': {'yes': 'question_3',  'no': 'END'},\n",
    "    'question_3': {'yes': 'question_5',  'no': 'question_5'},\n",
    "    'question_4': {'yes': 'END',  'no': 'END'}\n",
    "                }"
   ]
  },
  {
   "cell_type": "markdown",
   "metadata": {},
   "source": []
  }
 ],
 "metadata": {
  "kernelspec": {
   "display_name": "myenv",
   "language": "python",
   "name": "python3"
  },
  "language_info": {
   "codemirror_mode": {
    "name": "ipython",
    "version": 3
   },
   "file_extension": ".py",
   "mimetype": "text/x-python",
   "name": "python",
   "nbconvert_exporter": "python",
   "pygments_lexer": "ipython3",
   "version": "3.11.0"
  }
 },
 "nbformat": 4,
 "nbformat_minor": 2
}
