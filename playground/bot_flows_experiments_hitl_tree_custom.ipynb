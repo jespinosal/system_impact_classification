{
 "cells": [
  {
   "cell_type": "markdown",
   "metadata": {},
   "source": [
    "# Experiments to build AI conversational tools\n",
    "\n",
    "### Uses cases:\n",
    "\n",
    "* I/O definitions:\n",
    "    * Input: \n",
    "        - Use case 1: requires name of \"equipment\" to identify \"equipmetn group\"\n",
    "        - Use case 2: requines Yes/No answers to navigate on tree of questions\n",
    "    * Output:\n",
    "        - Use case 1: Output table with criteria columns 1 to 7 and 8a \n",
    "        - Use case 2: Output table with criteria columns 1 to 7, 8a and also 8b\n",
    "\n",
    "* Use case 1: RAG compute probs of historical records:\n",
    "    * System ask to SME for equipment to start analysis (system has some tolerance to admit synonims and misspeling)\n",
    "    * System classify equipment in one of the known equipment group categories in DB, reporting to user equipment group\n",
    "    * System reports to user stadistics for 1 to 8a question based on historical data of equipment group\n",
    "\n",
    "* Use case 2: Question 8a and 8b\n",
    "    * Use case 2 started after use case 1 is done.\n",
    "    * If questions 8a is mojoritary \"YES\" for given equipment (more than 50% of historical records report YES) proceed with questionay, else end use cases with 8b field 'NO'\n",
    "    * Doesn't matter the results from 1 o 7, if 8a question is yes we need to proceed with tree evaluation \n",
    "    * Questionary:\n",
    "        - Ask follow-up questions in order, if user reply \"NO\"  end use cases with 8b field 'NO', if Answe is YES continue to next question. \n",
    "        - If usere reply \"YES\" to all question  end use cases with 8b field 'YES'\n",
    "\n",
    "* Use case 3:\n",
    "    * Run this uses case once uses Case 1 and Use case 2 are done.\n",
    "    * Take from use case 1 answers 1 to 8a\n",
    "    * Take from use case 2 answer 8b\n",
    "    * Summarize all answer in one table and show final result with user\n",
    "\n",
    "\n",
    "* UI requirements:\n",
    "    * Chat window to get user inputs\n",
    "    * Chat window to visualize LLM answers\n",
    "    * Button to upload new files??  (optional)\n",
    "    * Button to run offline task to pre compute equipment probs?? (optional)\n"
   ]
  },
  {
   "cell_type": "code",
   "execution_count": 1,
   "metadata": {},
   "outputs": [
    {
     "name": "stdout",
     "output_type": "stream",
     "text": [
      "c:\\Users\\Jonathan_Espinosa\\Projects\\novartis\\system_impact_classification\\playground\n",
      "c:\\Users\\Jonathan_Espinosa\\Projects\\novartis\\system_impact_classification\n"
     ]
    }
   ],
   "source": [
    "import os\n",
    "print(os.getcwd())\n",
    "os.chdir(\"c:/Users/Jonathan_Espinosa/Projects/novartis/system_impact_classification\")\n",
    "print(os.getcwd())"
   ]
  },
  {
   "cell_type": "code",
   "execution_count": 2,
   "metadata": {},
   "outputs": [],
   "source": [
    "import os\n",
    "from io import StringIO\n",
    "from typing import List, Optional, Annotated\n",
    "from typing_extensions import TypedDict\n",
    "from operator import add\n",
    "import pandas as pd\n",
    "from dotenv import load_dotenv\n",
    "from langchain.tools import  tool\n",
    "from langchain_openai import AzureChatOpenAI\n",
    "from langchain_core.messages import HumanMessage\n",
    "from langchain_core.messages import HumanMessage, AIMessage, SystemMessage, ToolMessage\n",
    "from langgraph.graph.message import add_messages\n",
    "from langgraph.graph import END, START, StateGraph, MessagesState\n",
    "from langgraph.errors import NodeInterrupt"
   ]
  },
  {
   "cell_type": "code",
   "execution_count": 3,
   "metadata": {},
   "outputs": [],
   "source": [
    "from config import config\n",
    "from custom_rag import get_equipment_scores"
   ]
  },
  {
   "cell_type": "code",
   "execution_count": 4,
   "metadata": {},
   "outputs": [],
   "source": [
    "load_dotenv()\n",
    "AZURE_OPENAI_API_VERSION = os.getenv(\"AZURE_OPENAI_API_VERSION\")\n",
    "AZURE_OPENAI_ENDPOINT = os.getenv(\"AZURE_OPENAI_ENDPOINT\") \n",
    "AZURE_OPENAI_API_KEY = os.getenv(\"AZURE_OPENAI_API_KEY\")\n",
    "AZURE_OPENAI_CHAT_DEPLOYMENT_NAME = os.getenv(\"AZURE_OPENAI_CHAT_DEPLOYMENT_NAME\") \n",
    "\n",
    "llm = AzureChatOpenAI(\n",
    "    openai_api_version=os.environ[\"AZURE_OPENAI_API_VERSION\"],\n",
    "    azure_deployment=os.environ[\"AZURE_OPENAI_CHAT_DEPLOYMENT_NAME\"],\n",
    "    temperature=0,\n",
    "    max_tokens=None,\n",
    "    timeout=None,\n",
    "    max_retries=2,\n",
    ")"
   ]
  },
  {
   "cell_type": "code",
   "execution_count": 5,
   "metadata": {},
   "outputs": [],
   "source": [
    "# The structure of the logs\n",
    "\"\"\"\n",
    "class EntryGraphState(TypedDict):\n",
    "    id: str\n",
    "    counter: int = 0\n",
    "    clinical_history: Optional[str]\n",
    "    messages_human: Annotated[List[HumanMessage], add_messages]\n",
    "    #messages_agent: Annotated[List[str], add]\n",
    "    context: Optional[List[str]] # also Union[]\n",
    "    id_trials_valid: Annotated[List[str], add]\n",
    "    conversation_history: Annotated[List[SystemMessage|HumanMessage|AIMessage|ToolMessage], add_messages] # add_messages\n",
    "    role_game_history: Annotated[List[HumanMessage|AIMessage], add_messages] \n",
    "\"\"\"\n",
    "\n",
    "class AgentState(TypedDict):\n",
    "    stage: int\n",
    "    equipment: str\n",
    "    human_message: str\n",
    "    ai_message: str\n",
    "    criteria_8a_status: bool\n",
    "    criteria_8b_status: bool = False # Default doens't work need to update value in Node @todo check how to do \n",
    "    df_output: str # # pandas is not compatible \"DataFrame is not serializable\"\n",
    "    current_question_id: str\n",
    "\n"
   ]
  },
  {
   "cell_type": "code",
   "execution_count": 6,
   "metadata": {},
   "outputs": [],
   "source": [
    "\n",
    "def df_string_encoder_decoder(df=None, df_str= None):\n",
    "    # Step required to des-serialzie str DF. Cols should avoid whitespaces\n",
    "    if df is None and isinstance(df_str, str):\n",
    "        print('decoding str to pandas')\n",
    "        df = pd.read_csv(StringIO(df_str), sep='\\s+')\n",
    "        df['equipment_group_name'] = df['equipment_group_name'].apply(lambda x: x.replace(\"_\", \" \"))\n",
    "        df.columns = [col.replace(\"_\", \" \") for col in df.columns]\n",
    "        return df\n",
    "    elif isinstance(df, pd.DataFrame) and df_str is None:\n",
    "        print('encoding str to pandas')\n",
    "        df.columns = [col.replace(\" \", \"_\") for col in df.columns]\n",
    "        df['equipment_group_name'] = df['equipment_group_name'].apply(lambda x: x.replace(\" \", '_'))\n",
    "        df_str = df.to_string(index=False)\n",
    "        return df_str\n",
    "    else:\n",
    "        raise(TypeError, \"provide a valid pandas data frame or string parsed version\")\n",
    "        \n",
    "\n",
    "def node_get_human_equipment(state: AgentState):\n",
    "    #@todo add regex for alphabetic - Camell case - Add Guardrails?? -\n",
    "    print('-----------Node get human equipment-------------------')\n",
    "    equipment = state['equipment'].strip()\n",
    "    stage = state['stage'] + 1\n",
    "    equipment =  state['equipment']\n",
    "    return {'equipment': equipment, 'stage': stage, 'current_question_id':0, 'criteria_8b_status':False }# Default 8B false and current_question_id=0 as not possinle to setup default value \n",
    "\n",
    "def node_rag(state:AgentState):\n",
    "    print('-----------Node RAG-------------------')\n",
    "    user_equipment = state['equipment']\n",
    "    stage = state['stage'] + 1\n",
    "    print(f\"RAG for input: {user_equipment}\")\n",
    "    df_equipment_score = get_equipment_scores(user_equipment=user_equipment)\n",
    "    print(\"RAG Output:\",df_equipment_score)\n",
    "    value_8a = True if df_equipment_score['Criteria 8a'].values[0]>0.5 else False\n",
    "    df_equipment_score_str = df_string_encoder_decoder(df=df_equipment_score)\n",
    "    return {'df_output': df_equipment_score_str,  'criteria_8a_status': value_8a, 'stage': stage, } \n",
    "\n",
    "def eval_criteria_8a(state:AgentState):\n",
    "    print(\"---Step 3---\")\n",
    "    if state['criteria_8a_status']:\n",
    "        return 'criteria_8a_is_true'\n",
    "    else:\n",
    "        return 'criteria_8a_is_false'\n",
    "    \n",
    "def get_next_question(question_id:str, human_answer:str) -> dict:\n",
    "\n",
    "    questions = {'question_1': \"1. The issue is related to IT protocol 00x1?\", \n",
    "                'question_2': \"2. The system reported temperature over 15 Celcius degree?\", \n",
    "                'question_3': \"3. The system error was reported less than 24 hours ago??\", \n",
    "                'question_4': \"4. The system error affects equipment XXY\"}\n",
    "\n",
    "    question_id_edges = { # Also , as output a need next node and final answe (it is already on the key)\n",
    "            'question_1': {'yes': 'question_3',  'no': 'question_2'},\n",
    "            'question_2': {'yes': 'question_3',  'no': 'END'},\n",
    "            'question_3': {'yes': 'question_4',  'no': 'question_4'},\n",
    "            'question_4': {'yes': 'END',  'no': 'END'}}\n",
    "        \n",
    "    if question_id == 'None' and human_answer == 'None':\n",
    "        question_id_next = 'question_1' \n",
    "        question_str_next = questions['question_1']\n",
    "    else:\n",
    "        question_id_next = question_id_edges[question_id][human_answer]\n",
    "        if question_id_next != 'END':\n",
    "            question_str_next = questions[question_id_next]\n",
    "        else:\n",
    "            question_id_next = 'question_end'\n",
    "            question_str_next = 'Questionary is done'\n",
    "    return  question_id_next , question_str_next\n",
    "    \n",
    "\n",
    "def node_question(state: AgentState):\n",
    "    print('-----------Node question-------------------')\n",
    "    stage = state['stage'] + 1\n",
    "    if stage ==3 : #first iteration\n",
    "        current_question_id, ai_message = get_next_question(question_id='None', human_answer='None')\n",
    "    else:\n",
    "        current_question_id = state['current_question_id']\n",
    "        human_answer = state['human_message']\n",
    "        current_question_id_, ai_message = get_next_question(question_id=current_question_id, human_answer=human_answer)\n",
    "        current_question_id = current_question_id_\n",
    "    print(f\"Question {current_question_id}: {ai_message}\")\n",
    "    return {'ai_message': ai_message, 'current_question_id':current_question_id, 'stage': stage}\n",
    "\n",
    "def continue_questions(state: AgentState):\n",
    "    last_question_id = state['current_question_id']\n",
    "    if last_question_id == 'question_end':\n",
    "        return 'skip_questions'\n",
    "    else:\n",
    "        return 'go_to_next_question'\n",
    "\n",
    "def node_update_8b(state:AgentState):\n",
    "    if state['criteria_8a_status']: # If questions has made\n",
    "        last_human_message = state['human_message']\n",
    "        criteria_8b_status = True if last_human_message=='yes' else False\n",
    "    else:\n",
    "        criteria_8b_status = False\n",
    " \n",
    "    return {'criteria_8b_status': criteria_8b_status}\n",
    "\n",
    "def node_human_feedback(state):\n",
    "    stage = state['stage'] + 1\n",
    "    current_question_id = state['current_question_id']\n",
    "    print(\"---node human_feedback---\") \n",
    "    print(\"Please answer the quesiton with yes/no answer\")\n",
    "    if state['current_question_id']!='question_end': # That means after the last question is answered we are going to skip human answer \n",
    "        raise NodeInterrupt(f\"Thanks for answering the question {current_question_id}\")\n",
    "    else:\n",
    "        return {'stage': stage}\n",
    "        \n",
    "\n",
    "def node_parse_output(state:AgentState):\n",
    "    print(\"---Step 6---\")\n",
    "    stage = state['stage'] + 1\n",
    "    df_output_str = state['df_output']\n",
    "    df_output = df_string_encoder_decoder(df_str=df_output_str)\n",
    "    df_output['Criteria 8a'] = [state['criteria_8a_status']]\n",
    "    df_output['Criteria 8b'] =  [state['criteria_8b_status']]\n",
    "    print('-----------Node output-------------------')\n",
    "    df_output_str = df_string_encoder_decoder(df=df_output)\n",
    "    print(df_output)\n",
    "    return {'df_output': df_output_str, 'stage': stage} \n"
   ]
  },
  {
   "cell_type": "code",
   "execution_count": 7,
   "metadata": {},
   "outputs": [
    {
     "data": {
      "text/plain": [
       "\"\\nfrom io import StringIO\\ndf = pd.read_csv('data_processed\\\\equipment_group_probs.csv')\\ndf_encoded = df_string_encoder_decoder(df=df, df_str=None)\\nprint(type(df_encoded))\\nprint(df_encoded)\\ndf_decoded = df_string_encoder_decoder(df=None, df_str=df_encoded)\\nprint(type(df_decoded))\\nprint(df_decoded)\\n\""
      ]
     },
     "execution_count": 7,
     "metadata": {},
     "output_type": "execute_result"
    }
   ],
   "source": [
    "\"\"\"\n",
    "from io import StringIO\n",
    "df = pd.read_csv('data_processed\\equipment_group_probs.csv')\n",
    "df_encoded = df_string_encoder_decoder(df=df, df_str=None)\n",
    "print(type(df_encoded))\n",
    "print(df_encoded)\n",
    "df_decoded = df_string_encoder_decoder(df=None, df_str=df_encoded)\n",
    "print(type(df_decoded))\n",
    "print(df_decoded)\n",
    "\"\"\"\n"
   ]
  },
  {
   "cell_type": "markdown",
   "metadata": {},
   "source": [
    "## 1. FLOW Version 2"
   ]
  },
  {
   "cell_type": "code",
   "execution_count": 8,
   "metadata": {},
   "outputs": [
    {
     "data": {
      "text/plain": [
       "<langgraph.graph.state.StateGraph at 0x1aeb00d7050>"
      ]
     },
     "execution_count": 8,
     "metadata": {},
     "output_type": "execute_result"
    }
   ],
   "source": [
    "# Node definitions\n",
    "builder = StateGraph(AgentState)\n",
    "builder.add_node(\"node_get_human_equipment\", node_get_human_equipment)\n",
    "builder.add_node(\"node_rag\", node_rag)\n",
    "builder.add_node(\"node_human_feedback\", node_human_feedback)\n",
    "builder.add_node(\"node_question\", node_question)\n",
    "builder.add_node(\"node_update_8b\", node_update_8b)\n",
    "builder.add_node(\"node_parse_output\", node_parse_output)\n",
    "\n",
    "# Node edges:\n",
    "builder.add_edge(START, \"node_get_human_equipment\")\n",
    "builder.add_edge(\"node_get_human_equipment\", \"node_rag\")\n",
    "builder.add_conditional_edges(\"node_rag\", eval_criteria_8a, {'criteria_8a_is_true': \"node_question\",  \"criteria_8a_is_false\": 'node_update_8b'})\n",
    "builder.add_edge(\"node_question\", \"node_human_feedback\")\n",
    "builder.add_conditional_edges(\"node_human_feedback\", continue_questions, {'skip_questions': \"node_update_8b\",  \"go_to_next_question\": \"node_question\"})\n",
    "builder.add_edge(\"node_update_8b\", \"node_parse_output\")\n",
    "builder.add_edge(\"node_parse_output\", END)"
   ]
  },
  {
   "cell_type": "code",
   "execution_count": 15,
   "metadata": {},
   "outputs": [
    {
     "data": {
      "image/jpeg": "[encoded data removed]",
      "text/plain": [
       "<IPython.core.display.Image object>"
      ]
     },
     "metadata": {},
     "output_type": "display_data"
    }
   ],
   "source": [
    "from IPython.display import Image, display\n",
    "from langgraph.checkpoint.memory import MemorySaver\n",
    "\n",
    "# You MUST use a checkpoiner when using breakpoints. This is because your graph needs to be able to resume execution. (https://langchain-ai.github.io/langgraph/concepts/low_level/#configuration)\n",
    "memory = MemorySaver()\n",
    "#graph = builder.compile()\n",
    "graph = builder.compile(checkpointer=memory) #interrupt_before=[\"node_human_feedback\"]) #   interrupt_before=['human_feedback'])\n",
    "\n",
    "\n",
    "# View\n",
    "display(Image(graph.get_graph(xray=1).draw_mermaid_png()))"
   ]
  },
  {
   "cell_type": "markdown",
   "metadata": {},
   "source": [
    "## Non interactive run"
   ]
  },
  {
   "cell_type": "code",
   "execution_count": 16,
   "metadata": {},
   "outputs": [
    {
     "name": "stdout",
     "output_type": "stream",
     "text": [
      "-----------Node get human equipment-------------------\n",
      "-----------Node RAG-------------------\n",
      "RAG for input: Coler\n",
      "Equipment category analysis:  equipment_group_name='Cooling' new_equipment='Coler' classification_score=80\n",
      "RAG Output:   equipment_group_name  Criteria 1  Criteria 2  Criteria 3  Criteria 4  \\\n",
      "1              Cooling         1.0         0.0         1.0         0.0   \n",
      "\n",
      "   Criteria 5  Criteria 6  Criteria 7  Criteria 8a  Criteria 8b equipment_name  \n",
      "1         1.0         0.0         1.0          1.0          0.0          Coler  \n",
      "encoding str to pandas\n",
      "---Step 3---\n",
      "-----------Node question-------------------\n",
      "Question question_1: 1. The issue is related to IT protocol 00x1?\n",
      "---node human_feedback---\n",
      "Please answer the quesiton with yes/no answer\n"
     ]
    }
   ],
   "source": [
    "\n",
    "config = {\"configurable\": {\"thread_id\": \"1\"}}\n",
    "initial_input = {\"stage\":0, \"equipment\":\"Coler\"}\n",
    "result = graph.invoke(initial_input, config)"
   ]
  },
  {
   "cell_type": "code",
   "execution_count": 18,
   "metadata": {},
   "outputs": [
    {
     "data": {
      "text/plain": [
       "{'stage': 3,\n",
       " 'equipment': 'Coler',\n",
       " 'ai_message': '1. The issue is related to IT protocol 00x1?',\n",
       " 'criteria_8a_status': True,\n",
       " 'criteria_8b_status': False,\n",
       " 'df_output': 'equipment_group_name  Criteria_1  Criteria_2  Criteria_3  Criteria_4  Criteria_5  Criteria_6  Criteria_7  Criteria_8a  Criteria_8b equipment_name\\n             Cooling         1.0         0.0         1.0         0.0         1.0         0.0         1.0          1.0          0.0          Coler',\n",
       " 'current_question_id': 'question_1'}"
      ]
     },
     "execution_count": 18,
     "metadata": {},
     "output_type": "execute_result"
    }
   ],
   "source": [
    "result"
   ]
  },
  {
   "cell_type": "code",
   "execution_count": 17,
   "metadata": {},
   "outputs": [
    {
     "data": {
      "text/plain": [
       "('node_human_feedback',)"
      ]
     },
     "execution_count": 17,
     "metadata": {},
     "output_type": "execute_result"
    }
   ],
   "source": [
    "graph.get_state(config).next"
   ]
  },
  {
   "cell_type": "code",
   "execution_count": 11,
   "metadata": {},
   "outputs": [
    {
     "name": "stdout",
     "output_type": "stream",
     "text": [
      "-----------Node question-------------------\n",
      "Question question_2: 2. The system reported temperature over 15 Celcius degree?\n",
      "---node human_feedback---\n",
      "Please answer the quesiton with yes/no answer\n"
     ]
    }
   ],
   "source": [
    "graph.update_state(config, {\"human_message\": 'no'}, as_node=\"node_human_feedback\")\n",
    "result = graph.invoke(None, config)"
   ]
  },
  {
   "cell_type": "code",
   "execution_count": 12,
   "metadata": {},
   "outputs": [
    {
     "name": "stdout",
     "output_type": "stream",
     "text": [
      "-----------Node question-------------------\n",
      "Question question_end: Questionary is done\n",
      "---node human_feedback---\n",
      "Please answer the quesiton with yes/no answer\n",
      "---Step 6---\n",
      "decoding str to pandas\n",
      "-----------Node output-------------------\n",
      "encoding str to pandas\n",
      "  equipment_group_name  Criteria_1  Criteria_2  Criteria_3  Criteria_4  \\\n",
      "0              Cooling         1.0         0.0         1.0         0.0   \n",
      "\n",
      "   Criteria_5  Criteria_6  Criteria_7  Criteria_8a  Criteria_8b equipment_name  \n",
      "0         1.0         0.0         1.0         True        False          Coler  \n"
     ]
    }
   ],
   "source": [
    "graph.update_state(config, {\"human_message\": 'no'}, as_node=\"node_human_feedback\")\n",
    "result = graph.invoke(None, config)"
   ]
  },
  {
   "cell_type": "code",
   "execution_count": 14,
   "metadata": {},
   "outputs": [
    {
     "data": {
      "text/plain": [
       "()"
      ]
     },
     "execution_count": 14,
     "metadata": {},
     "output_type": "execute_result"
    }
   ],
   "source": [
    "graph.get_state(config).next"
   ]
  },
  {
   "cell_type": "markdown",
   "metadata": {},
   "source": [
    "## Interactive run"
   ]
  },
  {
   "cell_type": "code",
   "execution_count": 10,
   "metadata": {},
   "outputs": [
    {
     "name": "stdout",
     "output_type": "stream",
     "text": [
      "{'stage': 0, 'equipment': 'Coler'}\n",
      "-----------Node get human equipment-------------------\n",
      "{'stage': 1, 'equipment': 'Coler', 'criteria_8b_status': False, 'current_question_id': 0}\n",
      "-----------Node RAG-------------------\n",
      "RAG for input: Coler\n",
      "Equipment category analysis:  equipment_group_name='Cooling' new_equipment='Coler' classification_score=80\n",
      "RAG Output:   equipment_group_name  Criteria 1  Criteria 2  Criteria 3  Criteria 4  \\\n",
      "1              Cooling         1.0         0.0         1.0         0.0   \n",
      "\n",
      "   Criteria 5  Criteria 6  Criteria 7  Criteria 8a  Criteria 8b equipment_name  \n",
      "1         1.0         0.0         1.0          1.0          0.0          Coler  \n",
      "encoding str to pandas\n",
      "---Step 3---\n",
      "{'stage': 2, 'equipment': 'Coler', 'criteria_8a_status': True, 'criteria_8b_status': False, 'df_output': 'equipment_group_name  Criteria_1  Criteria_2  Criteria_3  Criteria_4  Criteria_5  Criteria_6  Criteria_7  Criteria_8a  Criteria_8b equipment_name\\n             Cooling         1.0         0.0         1.0         0.0         1.0         0.0         1.0          1.0          0.0          Coler', 'current_question_id': 0}\n",
      "-----------Node question-------------------\n",
      "Question question_1: 1. The issue is related to IT protocol 00x1?\n",
      "{'stage': 3, 'equipment': 'Coler', 'ai_message': '1. The issue is related to IT protocol 00x1?', 'criteria_8a_status': True, 'criteria_8b_status': False, 'df_output': 'equipment_group_name  Criteria_1  Criteria_2  Criteria_3  Criteria_4  Criteria_5  Criteria_6  Criteria_7  Criteria_8a  Criteria_8b equipment_name\\n             Cooling         1.0         0.0         1.0         0.0         1.0         0.0         1.0          1.0          0.0          Coler', 'current_question_id': 'question_1'}\n",
      "---node human_feedback---\n",
      "Please answer the quesiton with yes/no answer\n"
     ]
    }
   ],
   "source": [
    "\n",
    "config = {\"configurable\": {\"thread_id\": \"1\"}}\n",
    "#graph.invoke({\"stage\":0, \"equipment\":\"Freezer\", 'human_message': False}, config)\n",
    "# Cooling 8a-->1     Drying 8a->0\n",
    "#result = graph.invoke({\"stage\":0, \"equipment\":\"Coler\", \"current_question_id\":0 }, config) \n",
    "#equipment = input(\"Hi I'm your AI asssistant. Please indicate the equipment to review\")\n",
    "initial_input = {\"stage\":0, \"equipment\":\"Coler\"}\n",
    "for event in graph.stream(initial_input, config, stream_mode=\"values\"):\n",
    "    print(event)"
   ]
  },
  {
   "cell_type": "code",
   "execution_count": 11,
   "metadata": {},
   "outputs": [
    {
     "data": {
      "text/plain": [
       "{'configurable': {'thread_id': '1',\n",
       "  'checkpoint_ns': '',\n",
       "  'checkpoint_id': '1ef9cd9c-5c68-6917-8004-800a90a8fd5b'}}"
      ]
     },
     "execution_count": 11,
     "metadata": {},
     "output_type": "execute_result"
    }
   ],
   "source": [
    "graph.update_state(config, {\"human_message\": 'no'}, as_node=\"node_human_feedback\")"
   ]
  },
  {
   "cell_type": "code",
   "execution_count": 12,
   "metadata": {},
   "outputs": [
    {
     "name": "stdout",
     "output_type": "stream",
     "text": [
      "{'stage': 3, 'equipment': 'Coler', 'human_message': 'no', 'ai_message': '1. The issue is related to IT protocol 00x1?', 'criteria_8a_status': True, 'criteria_8b_status': False, 'df_output': 'equipment_group_name  Criteria_1  Criteria_2  Criteria_3  Criteria_4  Criteria_5  Criteria_6  Criteria_7  Criteria_8a  Criteria_8b equipment_name\\n             Cooling         1.0         0.0         1.0         0.0         1.0         0.0         1.0          1.0          0.0          Coler', 'current_question_id': 'question_1'}\n",
      "-----------Node question-------------------\n",
      "Question question_2: 2. The system reported temperature over 15 Celcius degree?\n",
      "{'stage': 4, 'equipment': 'Coler', 'human_message': 'no', 'ai_message': '2. The system reported temperature over 15 Celcius degree?', 'criteria_8a_status': True, 'criteria_8b_status': False, 'df_output': 'equipment_group_name  Criteria_1  Criteria_2  Criteria_3  Criteria_4  Criteria_5  Criteria_6  Criteria_7  Criteria_8a  Criteria_8b equipment_name\\n             Cooling         1.0         0.0         1.0         0.0         1.0         0.0         1.0          1.0          0.0          Coler', 'current_question_id': 'question_2'}\n",
      "---node human_feedback---\n",
      "Please answer the quesiton with yes/no answer\n"
     ]
    }
   ],
   "source": [
    "for event in graph.stream(None, config, stream_mode=\"values\"):\n",
    "    print(event)"
   ]
  },
  {
   "cell_type": "code",
   "execution_count": 13,
   "metadata": {},
   "outputs": [
    {
     "data": {
      "text/plain": [
       "{'configurable': {'thread_id': '1',\n",
       "  'checkpoint_ns': '',\n",
       "  'checkpoint_id': '1ef9cd9c-5c90-6ec6-8006-640713d7cad2'}}"
      ]
     },
     "execution_count": 13,
     "metadata": {},
     "output_type": "execute_result"
    }
   ],
   "source": [
    "graph.update_state(config, {\"human_message\": 'no'}, as_node=\"node_human_feedback\")"
   ]
  },
  {
   "cell_type": "code",
   "execution_count": 14,
   "metadata": {},
   "outputs": [
    {
     "name": "stdout",
     "output_type": "stream",
     "text": [
      "{'stage': 4, 'equipment': 'Coler', 'human_message': 'no', 'ai_message': '2. The system reported temperature over 15 Celcius degree?', 'criteria_8a_status': True, 'criteria_8b_status': False, 'df_output': 'equipment_group_name  Criteria_1  Criteria_2  Criteria_3  Criteria_4  Criteria_5  Criteria_6  Criteria_7  Criteria_8a  Criteria_8b equipment_name\\n             Cooling         1.0         0.0         1.0         0.0         1.0         0.0         1.0          1.0          0.0          Coler', 'current_question_id': 'question_2'}\n",
      "-----------Node question-------------------\n",
      "Question question_end: Questionary is done\n",
      "{'stage': 5, 'equipment': 'Coler', 'human_message': 'no', 'ai_message': 'Questionary is done', 'criteria_8a_status': True, 'criteria_8b_status': False, 'df_output': 'equipment_group_name  Criteria_1  Criteria_2  Criteria_3  Criteria_4  Criteria_5  Criteria_6  Criteria_7  Criteria_8a  Criteria_8b equipment_name\\n             Cooling         1.0         0.0         1.0         0.0         1.0         0.0         1.0          1.0          0.0          Coler', 'current_question_id': 'question_end'}\n",
      "---node human_feedback---\n",
      "Please answer the quesiton with yes/no answer\n",
      "{'stage': 6, 'equipment': 'Coler', 'human_message': 'no', 'ai_message': 'Questionary is done', 'criteria_8a_status': True, 'criteria_8b_status': False, 'df_output': 'equipment_group_name  Criteria_1  Criteria_2  Criteria_3  Criteria_4  Criteria_5  Criteria_6  Criteria_7  Criteria_8a  Criteria_8b equipment_name\\n             Cooling         1.0         0.0         1.0         0.0         1.0         0.0         1.0          1.0          0.0          Coler', 'current_question_id': 'question_end'}\n",
      "{'stage': 6, 'equipment': 'Coler', 'human_message': 'no', 'ai_message': 'Questionary is done', 'criteria_8a_status': True, 'criteria_8b_status': False, 'df_output': 'equipment_group_name  Criteria_1  Criteria_2  Criteria_3  Criteria_4  Criteria_5  Criteria_6  Criteria_7  Criteria_8a  Criteria_8b equipment_name\\n             Cooling         1.0         0.0         1.0         0.0         1.0         0.0         1.0          1.0          0.0          Coler', 'current_question_id': 'question_end'}\n",
      "---Step 6---\n",
      "decoding str to pandas\n",
      "-----------Node output-------------------\n",
      "encoding str to pandas\n",
      "  equipment_group_name  Criteria_1  Criteria_2  Criteria_3  Criteria_4  \\\n",
      "0              Cooling         1.0         0.0         1.0         0.0   \n",
      "\n",
      "   Criteria_5  Criteria_6  Criteria_7  Criteria_8a  Criteria_8b equipment_name  \n",
      "0         1.0         0.0         1.0         True        False          Coler  \n",
      "{'stage': 7, 'equipment': 'Coler', 'human_message': 'no', 'ai_message': 'Questionary is done', 'criteria_8a_status': True, 'criteria_8b_status': False, 'df_output': 'equipment_group_name  Criteria_1  Criteria_2  Criteria_3  Criteria_4  Criteria_5  Criteria_6  Criteria_7  Criteria_8a  Criteria_8b equipment_name\\n             Cooling         1.0         0.0         1.0         0.0         1.0         0.0         1.0         True        False          Coler', 'current_question_id': 'question_end'}\n"
     ]
    }
   ],
   "source": [
    "for event in graph.stream(None, config, stream_mode=\"values\"):\n",
    "    print(event)"
   ]
  },
  {
   "cell_type": "code",
   "execution_count": 15,
   "metadata": {},
   "outputs": [
    {
     "name": "stdout",
     "output_type": "stream",
     "text": [
      "equipment_group_name  Criteria_1  Criteria_2  Criteria_3  Criteria_4  Criteria_5  Criteria_6  Criteria_7  Criteria_8a  Criteria_8b equipment_name\n",
      "             Cooling         1.0         0.0         1.0         0.0         1.0         0.0         1.0         True        False          Coler\n"
     ]
    }
   ],
   "source": [
    "print(event['df_output'])"
   ]
  },
  {
   "cell_type": "code",
   "execution_count": 16,
   "metadata": {},
   "outputs": [
    {
     "data": {
      "text/plain": [
       "{'stage': 7,\n",
       " 'equipment': 'Coler',\n",
       " 'human_message': 'no',\n",
       " 'ai_message': 'Questionary is done',\n",
       " 'criteria_8a_status': True,\n",
       " 'criteria_8b_status': False,\n",
       " 'df_output': 'equipment_group_name  Criteria_1  Criteria_2  Criteria_3  Criteria_4  Criteria_5  Criteria_6  Criteria_7  Criteria_8a  Criteria_8b equipment_name\\n             Cooling         1.0         0.0         1.0         0.0         1.0         0.0         1.0         True        False          Coler',\n",
       " 'current_question_id': 'question_end'}"
      ]
     },
     "execution_count": 16,
     "metadata": {},
     "output_type": "execute_result"
    }
   ],
   "source": [
    "event"
   ]
  },
  {
   "cell_type": "code",
   "execution_count": 17,
   "metadata": {},
   "outputs": [
    {
     "data": {
      "text/plain": [
       "[StateSnapshot(values={'stage': 7, 'equipment': 'Coler', 'human_message': 'no', 'ai_message': 'Questionary is done', 'criteria_8a_status': True, 'criteria_8b_status': False, 'df_output': 'equipment_group_name  Criteria_1  Criteria_2  Criteria_3  Criteria_4  Criteria_5  Criteria_6  Criteria_7  Criteria_8a  Criteria_8b equipment_name\\n             Cooling         1.0         0.0         1.0         0.0         1.0         0.0         1.0         True        False          Coler', 'current_question_id': 'question_end'}, next=(), config={'configurable': {'thread_id': '1', 'checkpoint_ns': '', 'checkpoint_id': '1ef9cd9c-5d1b-6fd1-800a-1b6b0b7efacf'}}, metadata={'source': 'loop', 'writes': {'node_parse_output': {'stage': 7, 'df_output': 'equipment_group_name  Criteria_1  Criteria_2  Criteria_3  Criteria_4  Criteria_5  Criteria_6  Criteria_7  Criteria_8a  Criteria_8b equipment_name\\n             Cooling         1.0         0.0         1.0         0.0         1.0         0.0         1.0         True        False          Coler'}}, 'step': 10, 'parents': {}}, created_at='2024-11-07T07:27:41.246868+00:00', parent_config={'configurable': {'thread_id': '1', 'checkpoint_ns': '', 'checkpoint_id': '1ef9cd9c-5ce0-6706-8009-5a0c31ea7fbb'}}, tasks=()),\n",
       " StateSnapshot(values={'stage': 6, 'equipment': 'Coler', 'human_message': 'no', 'ai_message': 'Questionary is done', 'criteria_8a_status': True, 'criteria_8b_status': False, 'df_output': 'equipment_group_name  Criteria_1  Criteria_2  Criteria_3  Criteria_4  Criteria_5  Criteria_6  Criteria_7  Criteria_8a  Criteria_8b equipment_name\\n             Cooling         1.0         0.0         1.0         0.0         1.0         0.0         1.0          1.0          0.0          Coler', 'current_question_id': 'question_end'}, next=('node_parse_output',), config={'configurable': {'thread_id': '1', 'checkpoint_ns': '', 'checkpoint_id': '1ef9cd9c-5ce0-6706-8009-5a0c31ea7fbb'}}, metadata={'source': 'loop', 'writes': {'node_update_8b': {'criteria_8b_status': False}}, 'step': 9, 'parents': {}}, created_at='2024-11-07T07:27:41.222477+00:00', parent_config={'configurable': {'thread_id': '1', 'checkpoint_ns': '', 'checkpoint_id': '1ef9cd9c-5ce0-6705-8008-d0777fc1e8a8'}}, tasks=(PregelTask(id='c2830727-d5a9-b51c-5ade-4adb71302c72', name='node_parse_output', path=('__pregel_pull', 'node_parse_output'), error=None, interrupts=(), state=None, result={'stage': 7, 'df_output': 'equipment_group_name  Criteria_1  Criteria_2  Criteria_3  Criteria_4  Criteria_5  Criteria_6  Criteria_7  Criteria_8a  Criteria_8b equipment_name\\n             Cooling         1.0         0.0         1.0         0.0         1.0         0.0         1.0         True        False          Coler'}),)),\n",
       " StateSnapshot(values={'stage': 6, 'equipment': 'Coler', 'human_message': 'no', 'ai_message': 'Questionary is done', 'criteria_8a_status': True, 'criteria_8b_status': False, 'df_output': 'equipment_group_name  Criteria_1  Criteria_2  Criteria_3  Criteria_4  Criteria_5  Criteria_6  Criteria_7  Criteria_8a  Criteria_8b equipment_name\\n             Cooling         1.0         0.0         1.0         0.0         1.0         0.0         1.0          1.0          0.0          Coler', 'current_question_id': 'question_end'}, next=('node_update_8b',), config={'configurable': {'thread_id': '1', 'checkpoint_ns': '', 'checkpoint_id': '1ef9cd9c-5ce0-6705-8008-d0777fc1e8a8'}}, metadata={'source': 'loop', 'writes': {'node_human_feedback': {'stage': 6}}, 'step': 8, 'parents': {}}, created_at='2024-11-07T07:27:41.222477+00:00', parent_config={'configurable': {'thread_id': '1', 'checkpoint_ns': '', 'checkpoint_id': '1ef9cd9c-5ce0-6704-8007-0b1f826b54f1'}}, tasks=(PregelTask(id='9198f160-d6a7-047d-9264-9e5d7aef8f71', name='node_update_8b', path=('__pregel_pull', 'node_update_8b'), error=None, interrupts=(), state=None, result={'criteria_8b_status': False}),)),\n",
       " StateSnapshot(values={'stage': 5, 'equipment': 'Coler', 'human_message': 'no', 'ai_message': 'Questionary is done', 'criteria_8a_status': True, 'criteria_8b_status': False, 'df_output': 'equipment_group_name  Criteria_1  Criteria_2  Criteria_3  Criteria_4  Criteria_5  Criteria_6  Criteria_7  Criteria_8a  Criteria_8b equipment_name\\n             Cooling         1.0         0.0         1.0         0.0         1.0         0.0         1.0          1.0          0.0          Coler', 'current_question_id': 'question_end'}, next=('node_human_feedback',), config={'configurable': {'thread_id': '1', 'checkpoint_ns': '', 'checkpoint_id': '1ef9cd9c-5ce0-6704-8007-0b1f826b54f1'}}, metadata={'source': 'loop', 'writes': {'node_question': {'stage': 5, 'ai_message': 'Questionary is done', 'current_question_id': 'question_end'}}, 'step': 7, 'parents': {}}, created_at='2024-11-07T07:27:41.222477+00:00', parent_config={'configurable': {'thread_id': '1', 'checkpoint_ns': '', 'checkpoint_id': '1ef9cd9c-5c90-6ec6-8006-640713d7cad2'}}, tasks=(PregelTask(id='5c0c2df5-4ca6-a3eb-172a-b5f91dfa3143', name='node_human_feedback', path=('__pregel_pull', 'node_human_feedback'), error=None, interrupts=(), state=None, result={'stage': 6}),)),\n",
       " StateSnapshot(values={'stage': 4, 'equipment': 'Coler', 'human_message': 'no', 'ai_message': '2. The system reported temperature over 15 Celcius degree?', 'criteria_8a_status': True, 'criteria_8b_status': False, 'df_output': 'equipment_group_name  Criteria_1  Criteria_2  Criteria_3  Criteria_4  Criteria_5  Criteria_6  Criteria_7  Criteria_8a  Criteria_8b equipment_name\\n             Cooling         1.0         0.0         1.0         0.0         1.0         0.0         1.0          1.0          0.0          Coler', 'current_question_id': 'question_2'}, next=('node_question',), config={'configurable': {'thread_id': '1', 'checkpoint_ns': '', 'checkpoint_id': '1ef9cd9c-5c90-6ec6-8006-640713d7cad2'}}, metadata={'source': 'update', 'step': 6, 'writes': {'node_human_feedback': {'human_message': 'no'}}, 'parents': {}}, created_at='2024-11-07T07:27:41.189907+00:00', parent_config={'configurable': {'thread_id': '1', 'checkpoint_ns': '', 'checkpoint_id': '1ef9cd9c-5c71-6230-8005-3d270825f012'}}, tasks=(PregelTask(id='3074833c-d6c5-ad62-f31f-28db810bf44c', name='node_question', path=('__pregel_pull', 'node_question'), error=None, interrupts=(), state=None, result={'stage': 5, 'ai_message': 'Questionary is done', 'current_question_id': 'question_end'}),)),\n",
       " StateSnapshot(values={'stage': 4, 'equipment': 'Coler', 'human_message': 'no', 'ai_message': '2. The system reported temperature over 15 Celcius degree?', 'criteria_8a_status': True, 'criteria_8b_status': False, 'df_output': 'equipment_group_name  Criteria_1  Criteria_2  Criteria_3  Criteria_4  Criteria_5  Criteria_6  Criteria_7  Criteria_8a  Criteria_8b equipment_name\\n             Cooling         1.0         0.0         1.0         0.0         1.0         0.0         1.0          1.0          0.0          Coler', 'current_question_id': 'question_2'}, next=('node_human_feedback',), config={'configurable': {'thread_id': '1', 'checkpoint_ns': '', 'checkpoint_id': '1ef9cd9c-5c71-6230-8005-3d270825f012'}}, metadata={'source': 'loop', 'writes': {'node_question': {'stage': 4, 'ai_message': '2. The system reported temperature over 15 Celcius degree?', 'current_question_id': 'question_2'}}, 'step': 5, 'parents': {}}, created_at='2024-11-07T07:27:41.176888+00:00', parent_config={'configurable': {'thread_id': '1', 'checkpoint_ns': '', 'checkpoint_id': '1ef9cd9c-5c68-6917-8004-800a90a8fd5b'}}, tasks=(PregelTask(id='23b9f595-7b71-3eec-1507-3b176e39cdfc', name='node_human_feedback', path=('__pregel_pull', 'node_human_feedback'), error=None, interrupts=(Interrupt(value='Thanks for answering the question question_2', when='during'),), state=None, result=None),)),\n",
       " StateSnapshot(values={'stage': 3, 'equipment': 'Coler', 'human_message': 'no', 'ai_message': '1. The issue is related to IT protocol 00x1?', 'criteria_8a_status': True, 'criteria_8b_status': False, 'df_output': 'equipment_group_name  Criteria_1  Criteria_2  Criteria_3  Criteria_4  Criteria_5  Criteria_6  Criteria_7  Criteria_8a  Criteria_8b equipment_name\\n             Cooling         1.0         0.0         1.0         0.0         1.0         0.0         1.0          1.0          0.0          Coler', 'current_question_id': 'question_1'}, next=('node_question',), config={'configurable': {'thread_id': '1', 'checkpoint_ns': '', 'checkpoint_id': '1ef9cd9c-5c68-6917-8004-800a90a8fd5b'}}, metadata={'source': 'update', 'step': 4, 'writes': {'node_human_feedback': {'human_message': 'no'}}, 'parents': {}}, created_at='2024-11-07T07:27:41.173378+00:00', parent_config={'configurable': {'thread_id': '1', 'checkpoint_ns': '', 'checkpoint_id': '1ef9cd9c-5c45-6508-8003-c3ddb607b235'}}, tasks=(PregelTask(id='6375ac0f-a9cb-f259-4c16-5b99e7327b96', name='node_question', path=('__pregel_pull', 'node_question'), error=None, interrupts=(), state=None, result={'stage': 4, 'ai_message': '2. The system reported temperature over 15 Celcius degree?', 'current_question_id': 'question_2'}),)),\n",
       " StateSnapshot(values={'stage': 3, 'equipment': 'Coler', 'ai_message': '1. The issue is related to IT protocol 00x1?', 'criteria_8a_status': True, 'criteria_8b_status': False, 'df_output': 'equipment_group_name  Criteria_1  Criteria_2  Criteria_3  Criteria_4  Criteria_5  Criteria_6  Criteria_7  Criteria_8a  Criteria_8b equipment_name\\n             Cooling         1.0         0.0         1.0         0.0         1.0         0.0         1.0          1.0          0.0          Coler', 'current_question_id': 'question_1'}, next=('node_human_feedback',), config={'configurable': {'thread_id': '1', 'checkpoint_ns': '', 'checkpoint_id': '1ef9cd9c-5c45-6508-8003-c3ddb607b235'}}, metadata={'source': 'loop', 'writes': {'node_question': {'stage': 3, 'ai_message': '1. The issue is related to IT protocol 00x1?', 'current_question_id': 'question_1'}}, 'step': 3, 'parents': {}}, created_at='2024-11-07T07:27:41.158938+00:00', parent_config={'configurable': {'thread_id': '1', 'checkpoint_ns': '', 'checkpoint_id': '1ef9cd9c-5c1f-65ff-8002-6cb3b544559b'}}, tasks=(PregelTask(id='7ba97f9d-5f69-b245-76ea-a9be186d6210', name='node_human_feedback', path=('__pregel_pull', 'node_human_feedback'), error=None, interrupts=(Interrupt(value='Thanks for answering the question question_1', when='during'),), state=None, result=None),)),\n",
       " StateSnapshot(values={'stage': 2, 'equipment': 'Coler', 'criteria_8a_status': True, 'criteria_8b_status': False, 'df_output': 'equipment_group_name  Criteria_1  Criteria_2  Criteria_3  Criteria_4  Criteria_5  Criteria_6  Criteria_7  Criteria_8a  Criteria_8b equipment_name\\n             Cooling         1.0         0.0         1.0         0.0         1.0         0.0         1.0          1.0          0.0          Coler', 'current_question_id': 0}, next=('node_question',), config={'configurable': {'thread_id': '1', 'checkpoint_ns': '', 'checkpoint_id': '1ef9cd9c-5c1f-65ff-8002-6cb3b544559b'}}, metadata={'source': 'loop', 'writes': {'node_rag': {'stage': 2, 'criteria_8a_status': True, 'df_output': 'equipment_group_name  Criteria_1  Criteria_2  Criteria_3  Criteria_4  Criteria_5  Criteria_6  Criteria_7  Criteria_8a  Criteria_8b equipment_name\\n             Cooling         1.0         0.0         1.0         0.0         1.0         0.0         1.0          1.0          0.0          Coler'}}, 'step': 2, 'parents': {}}, created_at='2024-11-07T07:27:41.143398+00:00', parent_config={'configurable': {'thread_id': '1', 'checkpoint_ns': '', 'checkpoint_id': '1ef9cd9c-4cbc-6880-8001-94b983ddf87d'}}, tasks=(PregelTask(id='2e06a1c7-859e-848d-2d19-3e73ebc951b4', name='node_question', path=('__pregel_pull', 'node_question'), error=None, interrupts=(), state=None, result={'stage': 3, 'ai_message': '1. The issue is related to IT protocol 00x1?', 'current_question_id': 'question_1'}),)),\n",
       " StateSnapshot(values={'stage': 1, 'equipment': 'Coler', 'criteria_8b_status': False, 'current_question_id': 0}, next=('node_rag',), config={'configurable': {'thread_id': '1', 'checkpoint_ns': '', 'checkpoint_id': '1ef9cd9c-4cbc-6880-8001-94b983ddf87d'}}, metadata={'source': 'loop', 'writes': {'node_get_human_equipment': {'stage': 1, 'equipment': 'Coler', 'criteria_8b_status': False, 'current_question_id': 0}}, 'step': 1, 'parents': {}}, created_at='2024-11-07T07:27:39.530047+00:00', parent_config={'configurable': {'thread_id': '1', 'checkpoint_ns': '', 'checkpoint_id': '1ef9cd9c-4cbc-687f-8000-ae5c93cc839b'}}, tasks=(PregelTask(id='90beca5d-ce9c-a6f7-bf2c-b8867720c54f', name='node_rag', path=('__pregel_pull', 'node_rag'), error=None, interrupts=(), state=None, result={'stage': 2, 'criteria_8a_status': True, 'df_output': 'equipment_group_name  Criteria_1  Criteria_2  Criteria_3  Criteria_4  Criteria_5  Criteria_6  Criteria_7  Criteria_8a  Criteria_8b equipment_name\\n             Cooling         1.0         0.0         1.0         0.0         1.0         0.0         1.0          1.0          0.0          Coler'}),)),\n",
       " StateSnapshot(values={'stage': 0, 'equipment': 'Coler'}, next=('node_get_human_equipment',), config={'configurable': {'thread_id': '1', 'checkpoint_ns': '', 'checkpoint_id': '1ef9cd9c-4cbc-687f-8000-ae5c93cc839b'}}, metadata={'source': 'loop', 'writes': None, 'step': 0, 'parents': {}}, created_at='2024-11-07T07:27:39.530047+00:00', parent_config={'configurable': {'thread_id': '1', 'checkpoint_ns': '', 'checkpoint_id': '1ef9cd9c-4cbc-687e-bfff-359b15a174bb'}}, tasks=(PregelTask(id='5d4ee952-2955-26cc-1324-1fd325772f26', name='node_get_human_equipment', path=('__pregel_pull', 'node_get_human_equipment'), error=None, interrupts=(), state=None, result={'stage': 1, 'equipment': 'Coler', 'criteria_8b_status': False, 'current_question_id': 0}),)),\n",
       " StateSnapshot(values={}, next=('__start__',), config={'configurable': {'thread_id': '1', 'checkpoint_ns': '', 'checkpoint_id': '1ef9cd9c-4cbc-687e-bfff-359b15a174bb'}}, metadata={'source': 'input', 'writes': {'__start__': {'stage': 0, 'equipment': 'Coler'}}, 'step': -1, 'parents': {}}, created_at='2024-11-07T07:27:39.530047+00:00', parent_config=None, tasks=(PregelTask(id='8dbd4515-4983-3d1f-a370-a552a6091b6e', name='__start__', path=('__pregel_pull', '__start__'), error=None, interrupts=(), state=None, result={'stage': 0, 'equipment': 'Coler'}),))]"
      ]
     },
     "execution_count": 17,
     "metadata": {},
     "output_type": "execute_result"
    }
   ],
   "source": [
    "list(graph.get_state_history(config))"
   ]
  },
  {
   "cell_type": "code",
   "execution_count": 18,
   "metadata": {},
   "outputs": [
    {
     "data": {
      "text/plain": [
       "0"
      ]
     },
     "execution_count": 18,
     "metadata": {},
     "output_type": "execute_result"
    }
   ],
   "source": [
    "len(graph.get_state(config).next)"
   ]
  },
  {
   "cell_type": "code",
   "execution_count": 31,
   "metadata": {},
   "outputs": [
    {
     "name": "stdout",
     "output_type": "stream",
     "text": [
      "decoding str to pandas\n"
     ]
    },
    {
     "data": {
      "text/plain": [
       "Index(['equipment group name', 'Criteria 1', 'Criteria 2', 'Criteria 3',\n",
       "       'Criteria 4', 'Criteria 5', 'Criteria 6', 'Criteria 7', 'Criteria 8a',\n",
       "       'Criteria 8b', 'equipment name'],\n",
       "      dtype='object')"
      ]
     },
     "execution_count": 31,
     "metadata": {},
     "output_type": "execute_result"
    }
   ],
   "source": [
    "df_output = df_string_encoder_decoder(df_str=event['df_output'])\n",
    "df_output.columns"
   ]
  },
  {
   "cell_type": "markdown",
   "metadata": {},
   "source": []
  },
  {
   "cell_type": "markdown",
   "metadata": {},
   "source": []
  }
 ],
 "metadata": {
  "kernelspec": {
   "display_name": "myenv",
   "language": "python",
   "name": "python3"
  },
  "language_info": {
   "codemirror_mode": {
    "name": "ipython",
    "version": 3
   },
   "file_extension": ".py",
   "mimetype": "text/x-python",
   "name": "python",
   "nbconvert_exporter": "python",
   "pygments_lexer": "ipython3",
   "version": "3.11.0"
  }
 },
 "nbformat": 4,
 "nbformat_minor": 2
}
