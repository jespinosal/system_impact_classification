{
 "cells": [
  {
   "cell_type": "markdown",
   "metadata": {},
   "source": [
    "# Experiments to build AI conversational tools\n",
    "\n",
    "### Uses cases:\n",
    "\n",
    "* I/O definitions:\n",
    "    * Input: \n",
    "        - Use case 1: requires name of \"equipment\" to identify \"equipmetn group\"\n",
    "        - Use case 2: requines Yes/No answers to navigate on tree of questions\n",
    "    * Output:\n",
    "        - Use case 1: Output table with criteria columns 1 to 7 and 8a \n",
    "        - Use case 2: Output table with criteria columns 1 to 7, 8a and also 8b\n",
    "\n",
    "* Use case 1: RAG compute probs of historical records:\n",
    "    * System ask to SME for equipment to start analysis (system has some tolerance to admit synonims and misspeling)\n",
    "    * System classify equipment in one of the known equipment group categories in DB, reporting to user equipment group\n",
    "    * System reports to user stadistics for 1 to 8a question based on historical data of equipment group\n",
    "\n",
    "* Use case 2: Question 8a and 8b\n",
    "    * Use case 2 started after use case 1 is done.\n",
    "    * If questions 8a is mojoritary \"YES\" for given equipment (more than 50% of historical records report YES) proceed with questionay, else end use cases with 8b field 'NO'\n",
    "    * Doesn't matter the results from 1 o 7, if 8a question is yes we need to proceed with tree evaluation \n",
    "    * Questionary:\n",
    "        - Ask follow-up questions in order, if user reply \"NO\"  end use cases with 8b field 'NO', if Answe is YES continue to next question. \n",
    "        - If usere reply \"YES\" to all question  end use cases with 8b field 'YES'\n",
    "\n",
    "* Use case 3:\n",
    "    * Run this uses case once uses Case 1 and Use case 2 are done.\n",
    "    * Take from use case 1 answers 1 to 8a\n",
    "    * Take from use case 2 answer 8b\n",
    "    * Summarize all answer in one table and show final result with user\n",
    "\n",
    "\n",
    "* UI requirements:\n",
    "    * Chat window to get user inputs\n",
    "    * Chat window to visualize LLM answers\n",
    "    * Button to upload new files??  (optional)\n",
    "    * Button to run offline task to pre compute equipment probs?? (optional)\n"
   ]
  },
  {
   "cell_type": "code",
   "execution_count": 1,
   "metadata": {},
   "outputs": [
    {
     "name": "stdout",
     "output_type": "stream",
     "text": [
      "c:\\Users\\Jonathan_Espinosa\\Projects\\novartis\\system_impact_classification\\playground\n",
      "c:\\Users\\Jonathan_Espinosa\\Projects\\novartis\\system_impact_classification\n"
     ]
    }
   ],
   "source": [
    "import os\n",
    "print(os.getcwd())\n",
    "os.chdir(\"c:/Users/Jonathan_Espinosa/Projects/novartis/system_impact_classification\")\n",
    "print(os.getcwd())"
   ]
  },
  {
   "cell_type": "code",
   "execution_count": 2,
   "metadata": {},
   "outputs": [],
   "source": [
    "import os\n",
    "from typing import List, Optional, Annotated\n",
    "from typing_extensions import TypedDict\n",
    "from operator import add\n",
    "import pandas as pd\n",
    "from dotenv import load_dotenv\n",
    "from langchain.tools import  tool\n",
    "from langchain_openai import AzureChatOpenAI\n",
    "from langchain_core.messages import HumanMessage\n",
    "from langchain_core.messages import HumanMessage, AIMessage, SystemMessage, ToolMessage\n",
    "from langgraph.graph.message import add_messages\n",
    "from langgraph.graph import END, START, StateGraph, MessagesState"
   ]
  },
  {
   "cell_type": "code",
   "execution_count": 34,
   "metadata": {},
   "outputs": [],
   "source": [
    "from config import config\n",
    "from custom_rag import get_equipment_scores"
   ]
  },
  {
   "cell_type": "code",
   "execution_count": 94,
   "metadata": {},
   "outputs": [],
   "source": [
    "load_dotenv()\n",
    "AZURE_OPENAI_API_VERSION = os.getenv(\"AZURE_OPENAI_API_VERSION\")\n",
    "AZURE_OPENAI_ENDPOINT = os.getenv(\"AZURE_OPENAI_ENDPOINT\") \n",
    "AZURE_OPENAI_API_KEY = os.getenv(\"AZURE_OPENAI_API_KEY\")\n",
    "AZURE_OPENAI_CHAT_DEPLOYMENT_NAME = os.getenv(\"AZURE_OPENAI_CHAT_DEPLOYMENT_NAME\") \n",
    "\n",
    "llm = AzureChatOpenAI(\n",
    "    openai_api_version=os.environ[\"AZURE_OPENAI_API_VERSION\"],\n",
    "    azure_deployment=os.environ[\"AZURE_OPENAI_CHAT_DEPLOYMENT_NAME\"],\n",
    "    temperature=0,\n",
    "    max_tokens=None,\n",
    "    timeout=None,\n",
    "    max_retries=2,\n",
    ")"
   ]
  },
  {
   "cell_type": "code",
   "execution_count": 105,
   "metadata": {},
   "outputs": [],
   "source": [
    "# The structure of the logs\n",
    "\"\"\"\n",
    "class EntryGraphState(TypedDict):\n",
    "    id: str\n",
    "    counter: int = 0\n",
    "    clinical_history: Optional[str]\n",
    "    messages_human: Annotated[List[HumanMessage], add_messages]\n",
    "    #messages_agent: Annotated[List[str], add]\n",
    "    context: Optional[List[str]] # also Union[]\n",
    "    id_trials_valid: Annotated[List[str], add]\n",
    "    conversation_history: Annotated[List[SystemMessage|HumanMessage|AIMessage|ToolMessage], add_messages] # add_messages\n",
    "    role_game_history: Annotated[List[HumanMessage|AIMessage], add_messages] \n",
    "\"\"\"\n",
    "\n",
    "class AgentState(TypedDict):\n",
    "    stage: int\n",
    "    equipment: str\n",
    "    human_message: str\n",
    "    ai_message: str\n",
    "    criteria_8a_status: bool\n",
    "    criteria_8b_status: bool = False # Default doens't work need to update value in Node @todo check how to do \n",
    "    df_output: pd.DataFrame\n",
    "\n"
   ]
  },
  {
   "cell_type": "code",
   "execution_count": 174,
   "metadata": {},
   "outputs": [],
   "source": [
    "\n",
    "def node_get_human_equipment(state: AgentState):\n",
    "    #@todo add regex for alphabetic - Camell case - Add Guardrails?? -\n",
    "    print('-----------Node get human equipment-------------------')\n",
    "    equipment = state['equipment'].strip()\n",
    "    stage = state['stage'] + 1\n",
    "    equipment =  state['equipment']\n",
    "    return {'equipment': equipment, 'stage': stage}\n",
    "\n",
    "def node_rag(state:AgentState):\n",
    "    print('-----------Node RAG-------------------')\n",
    "    user_equipment = state['equipment']\n",
    "    stage = state['stage'] + 1\n",
    "    print(f\"RAG for input: {user_equipment}\")\n",
    "    df_equipment_score = get_equipment_scores(user_equipment=user_equipment)\n",
    "    print(\"RAG Output:\",df_equipment_score)\n",
    "    value_8a = True if df_equipment_score['Criteria 8a'].values[0]>0.5 else False\n",
    "    return {'df_output': df_equipment_score,  'criteria_8a_status': value_8a, 'stage': stage, 'criteria_8b_status':False} # Default 8B false, will be update later if needed\n",
    "\n",
    "def question_8_eval(state:AgentState):\n",
    "    if state['criteria_8a_status']:\n",
    "        return 'node_question_1'\n",
    "    else:\n",
    "        return 'node_parse_output'\n",
    "    \n",
    "\n",
    "def node_question_1(state: AgentState):\n",
    "    print('-----------Node question-------------------')\n",
    "    ai_message = \"Does system fall on XXYY exceptpion?\"\n",
    "    human_message_question_8b = state['human_message']\n",
    "    print(ai_message ,  human_message_question_8b)\n",
    "    return {'ai_message': ai_message, 'criteria_8b_status': human_message_question_8b}\n",
    "\n",
    "\n",
    "def node_parse_output(state:AgentState):\n",
    "    df_output = state['df_output']\n",
    "    df_output['Criteria 8a'] = [state['criteria_8a_status']]\n",
    "    df_output['Criteria 8b'] =  [state['criteria_8b_status']]\n",
    "    print('-----------Node output-------------------')\n",
    "    print(df_output)\n",
    "    return {'df_output': df_output}\n"
   ]
  },
  {
   "cell_type": "markdown",
   "metadata": {},
   "source": [
    "## 1. FLOW Version 1"
   ]
  },
  {
   "cell_type": "code",
   "execution_count": 175,
   "metadata": {},
   "outputs": [
    {
     "data": {
      "text/plain": [
       "<langgraph.graph.state.StateGraph at 0x1ad2226fd10>"
      ]
     },
     "execution_count": 175,
     "metadata": {},
     "output_type": "execute_result"
    }
   ],
   "source": [
    "# Node definitions\n",
    "builder = StateGraph(AgentState)\n",
    "builder.add_node(\"node_get_human_equipment\", node_get_human_equipment)\n",
    "builder.add_node(\"node_rag\", node_rag)\n",
    "builder.add_node(\"node_question_1\", node_question_1)\n",
    "builder.add_node(\"node_parse_output\", node_parse_output)\n",
    "\n",
    "# Node edges:\n",
    "builder.add_edge(START, \"node_get_human_equipment\")\n",
    "builder.add_edge(\"node_get_human_equipment\", \"node_rag\")\n",
    "builder.add_conditional_edges(\"node_rag\", question_8_eval)\n",
    "builder.add_edge(\"node_question_1\", \"node_parse_output\")\n",
    "builder.add_edge(\"node_parse_output\", END)\n"
   ]
  },
  {
   "cell_type": "code",
   "execution_count": 176,
   "metadata": {},
   "outputs": [
    {
     "data": {
      "image/jpeg": "[encoded data removed]",
      "text/plain": [
       "<IPython.core.display.Image object>"
      ]
     },
     "metadata": {},
     "output_type": "display_data"
    }
   ],
   "source": [
    "from IPython.display import Image, display\n",
    "from langgraph.checkpoint.memory import MemorySaver\n",
    "\n",
    "# You MUST use a checkpoiner when using breakpoints. This is because your graph needs to be able to resume execution. (https://langchain-ai.github.io/langgraph/concepts/low_level/#configuration)\n",
    "memory = MemorySaver()\n",
    "graph = builder.compile()\n",
    "# graph = builder.compile(checkpointer=memory) #   interrupt_before=['human_feedback'])\n",
    "\n",
    "\n",
    "# View\n",
    "display(Image(graph.get_graph(xray=1).draw_mermaid_png()))"
   ]
  },
  {
   "cell_type": "code",
   "execution_count": 185,
   "metadata": {},
   "outputs": [
    {
     "name": "stdout",
     "output_type": "stream",
     "text": [
      "-----------Node get human equipment-------------------\n",
      "-----------Node RAG-------------------\n",
      "RAG for input: Coler\n",
      "Equipment category analysis:  equipment_group_name='Cooling' new_equipment='Coler' classification_score=80\n",
      "RAG Output:   equipment_group_name  Criteria 1  Criteria 2  Criteria 3  Criteria 4  \\\n",
      "1              Cooling         1.0         0.0         1.0         0.0   \n",
      "\n",
      "   Criteria 5  Criteria 6  Criteria 7  Criteria 8a  Criteria 8b equipment_name  \n",
      "1         1.0         0.0         1.0          1.0          0.0          Coler  \n",
      "-----------Node question-------------------\n",
      "Does system fall on XXYY exceptpion? True\n",
      "-----------Node output-------------------\n",
      "  equipment_group_name  Criteria 1  Criteria 2  Criteria 3  Criteria 4  \\\n",
      "1              Cooling         1.0         0.0         1.0         0.0   \n",
      "\n",
      "   Criteria 5  Criteria 6  Criteria 7  Criteria 8a  Criteria 8b equipment_name  \n",
      "1         1.0         0.0         1.0         True         True          Coler  \n"
     ]
    }
   ],
   "source": [
    "\n",
    "# config = {\"configurable\": {\"thread_id\": \"1\"}}\n",
    "#graph.invoke({\"stage\":0, \"equipment\":\"Freezer\", 'human_message': False}, config)\n",
    "# Cooling 8a-->1     Drying 8a->0\n",
    "result = graph.invoke({\"stage\":0, \"equipment\":\"Coler\", 'human_message': True}) "
   ]
  },
  {
   "cell_type": "code",
   "execution_count": 186,
   "metadata": {},
   "outputs": [
    {
     "data": {
      "text/html": [
       "<div>\n",
       "<style scoped>\n",
       "    .dataframe tbody tr th:only-of-type {\n",
       "        vertical-align: middle;\n",
       "    }\n",
       "\n",
       "    .dataframe tbody tr th {\n",
       "        vertical-align: top;\n",
       "    }\n",
       "\n",
       "    .dataframe thead th {\n",
       "        text-align: right;\n",
       "    }\n",
       "</style>\n",
       "<table border=\"1\" class=\"dataframe\">\n",
       "  <thead>\n",
       "    <tr style=\"text-align: right;\">\n",
       "      <th></th>\n",
       "      <th>equipment_group_name</th>\n",
       "      <th>Criteria 1</th>\n",
       "      <th>Criteria 2</th>\n",
       "      <th>Criteria 3</th>\n",
       "      <th>Criteria 4</th>\n",
       "      <th>Criteria 5</th>\n",
       "      <th>Criteria 6</th>\n",
       "      <th>Criteria 7</th>\n",
       "      <th>Criteria 8a</th>\n",
       "      <th>Criteria 8b</th>\n",
       "      <th>equipment_name</th>\n",
       "    </tr>\n",
       "  </thead>\n",
       "  <tbody>\n",
       "    <tr>\n",
       "      <th>1</th>\n",
       "      <td>Cooling</td>\n",
       "      <td>1.0</td>\n",
       "      <td>0.0</td>\n",
       "      <td>1.0</td>\n",
       "      <td>0.0</td>\n",
       "      <td>1.0</td>\n",
       "      <td>0.0</td>\n",
       "      <td>1.0</td>\n",
       "      <td>True</td>\n",
       "      <td>True</td>\n",
       "      <td>Coler</td>\n",
       "    </tr>\n",
       "  </tbody>\n",
       "</table>\n",
       "</div>"
      ],
      "text/plain": [
       "  equipment_group_name  Criteria 1  Criteria 2  Criteria 3  Criteria 4  \\\n",
       "1              Cooling         1.0         0.0         1.0         0.0   \n",
       "\n",
       "   Criteria 5  Criteria 6  Criteria 7  Criteria 8a  Criteria 8b equipment_name  \n",
       "1         1.0         0.0         1.0         True         True          Coler  "
      ]
     },
     "execution_count": 186,
     "metadata": {},
     "output_type": "execute_result"
    }
   ],
   "source": [
    "result['df_output']"
   ]
  },
  {
   "cell_type": "markdown",
   "metadata": {},
   "source": []
  }
 ],
 "metadata": {
  "kernelspec": {
   "display_name": "myenv",
   "language": "python",
   "name": "python3"
  },
  "language_info": {
   "codemirror_mode": {
    "name": "ipython",
    "version": 3
   },
   "file_extension": ".py",
   "mimetype": "text/x-python",
   "name": "python",
   "nbconvert_exporter": "python",
   "pygments_lexer": "ipython3",
   "version": "3.11.0"
  }
 },
 "nbformat": 4,
 "nbformat_minor": 2
}
