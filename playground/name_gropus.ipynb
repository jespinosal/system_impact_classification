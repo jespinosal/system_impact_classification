{
 "cells": [
  {
   "cell_type": "code",
   "execution_count": null,
   "metadata": {},
   "outputs": [],
   "source": []
  },
  {
   "cell_type": "code",
   "execution_count": 1,
   "metadata": {},
   "outputs": [],
   "source": [
    "import os\n",
    "from dotenv import load_dotenv\n",
    "from langchain_openai import AzureChatOpenAI\n",
    "from langchain_core.prompts import PromptTemplate"
   ]
  },
  {
   "cell_type": "code",
   "execution_count": 2,
   "metadata": {},
   "outputs": [],
   "source": [
    "load_dotenv()\n",
    "AZURE_OPENAI_API_VERSION = os.getenv(\"AZURE_OPENAI_API_VERSION\")\n",
    "AZURE_OPENAI_ENDPOINT = os.getenv(\"AZURE_OPENAI_ENDPOINT\") \n",
    "AZURE_OPENAI_API_KEY = os.getenv(\"AZURE_OPENAI_API_KEY\")\n",
    "AZURE_OPENAI_CHAT_DEPLOYMENT_NAME = os.getenv(\"AZURE_OPENAI_CHAT_DEPLOYMENT_NAME\") "
   ]
  },
  {
   "cell_type": "code",
   "execution_count": 3,
   "metadata": {},
   "outputs": [],
   "source": [
    "llm = AzureChatOpenAI(\n",
    "    openai_api_version=os.environ[\"AZURE_OPENAI_API_VERSION\"],\n",
    "    azure_deployment=os.environ[\"AZURE_OPENAI_CHAT_DEPLOYMENT_NAME\"],\n",
    "    temperature=0,\n",
    "    max_tokens=None,\n",
    "    timeout=None,\n",
    "    max_retries=2,\n",
    ")"
   ]
  },
  {
   "cell_type": "code",
   "execution_count": 34,
   "metadata": {},
   "outputs": [],
   "source": [
    "from pydantic import BaseModel, Field\n",
    "from langchain.output_parsers import PydanticOutputParser \n",
    "from typing import List\n",
    "\n",
    "class EquipmentGroup(BaseModel):\n",
    "    \"\"\"\n",
    "        This class is going to capture one group of equipments on the list 'equipments' under the groupd name 'equipment_group_name'.\n",
    "    \"\"\"\n",
    "    equipment_group_name: str = Field(description=\"Group name of equipments\")\n",
    "    equipments: List[str] = Field(description=\"List of all the equipments that belong to group indicated in equipment_group_name. One or more elements from equipment_list fit here\")\n",
    "\n",
    "\n",
    "class EquipmentGroups(BaseModel):\n",
    "    \"\"\"\n",
    "        This class is used to srore the collections/list of EquipmentGroup.\n",
    "    \"\"\"\n",
    "    equipment_groups: List[EquipmentGroup]\n",
    "\n",
    "\n",
    "output_parser = PydanticOutputParser(pydantic_object = EquipmentGroups)\n",
    "\n",
    "output_format_instructions = output_parser.get_format_instructions()\n",
    "\n",
    "equipment_list = 'Boiler, Conveyor, Furnace, Compressor, Mixer, Pump, Generator, Chiller, Valve, Fan, Blower, Heater, Dryer, Cooler, Turbine, Cooler, Turbine, Turbaie, Turvine'\n",
    "\n",
    "promt_template = \"\"\"You are an assistant expert in manufactoring area, you need to group the following equipments in groups.\n",
    "\n",
    "Instructions:\n",
    "1. Generate groups based on similarity of words of equipment names in equipment_list. Some equipments has been named using synonims\n",
    "2. Generate a meaningful name for each group\n",
    "3. Generate the output as follows: \n",
    "{output_format_instructions}\n",
    "\n",
    "equipment_list to process:\n",
    "{equipment_list}\n",
    "\n",
    "\"\"\"\n",
    "\n",
    "system_promt = PromptTemplate(template=promt_template, input_variables=['equipment_list', 'output_format_instructions'])\n",
    "\n",
    "chain = system_promt | llm | output_parser\n",
    "\n",
    "\n",
    "results = chain.invoke({'equipment_list':equipment_list,\n",
    "                        'output_format_instructions': output_format_instructions})"
   ]
  },
  {
   "cell_type": "code",
   "execution_count": 37,
   "metadata": {},
   "outputs": [
    {
     "data": {
      "text/plain": [
       "[EquipmentGroup(equipment_group_name='Heat Generation', equipments=['Boiler', 'Furnace', 'Heater']),\n",
       " EquipmentGroup(equipment_group_name='Material Handling', equipments=['Conveyor', 'Mixer']),\n",
       " EquipmentGroup(equipment_group_name='Fluid Movement', equipments=['Compressor', 'Pump', 'Valve', 'Fan', 'Blower']),\n",
       " EquipmentGroup(equipment_group_name='Power Generation', equipments=['Generator', 'Turbine']),\n",
       " EquipmentGroup(equipment_group_name='Cooling', equipments=['Chiller', 'Cooler']),\n",
       " EquipmentGroup(equipment_group_name='Drying', equipments=['Dryer'])]"
      ]
     },
     "execution_count": 37,
     "metadata": {},
     "output_type": "execute_result"
    }
   ],
   "source": [
    "results.equipment_groups"
   ]
  },
  {
   "cell_type": "code",
   "execution_count": 56,
   "metadata": {},
   "outputs": [
    {
     "data": {
      "text/html": [
       "<div>\n",
       "<style scoped>\n",
       "    .dataframe tbody tr th:only-of-type {\n",
       "        vertical-align: middle;\n",
       "    }\n",
       "\n",
       "    .dataframe tbody tr th {\n",
       "        vertical-align: top;\n",
       "    }\n",
       "\n",
       "    .dataframe thead th {\n",
       "        text-align: right;\n",
       "    }\n",
       "</style>\n",
       "<table border=\"1\" class=\"dataframe\">\n",
       "  <thead>\n",
       "    <tr style=\"text-align: right;\">\n",
       "      <th></th>\n",
       "      <th>equipment_group_name</th>\n",
       "      <th>equipments</th>\n",
       "    </tr>\n",
       "  </thead>\n",
       "  <tbody>\n",
       "    <tr>\n",
       "      <th>0</th>\n",
       "      <td>Heat Generation</td>\n",
       "      <td>[Boiler, Furnace, Heater]</td>\n",
       "    </tr>\n",
       "    <tr>\n",
       "      <th>1</th>\n",
       "      <td>Material Handling</td>\n",
       "      <td>[Conveyor, Mixer]</td>\n",
       "    </tr>\n",
       "    <tr>\n",
       "      <th>2</th>\n",
       "      <td>Fluid Movement</td>\n",
       "      <td>[Compressor, Pump, Valve, Fan, Blower]</td>\n",
       "    </tr>\n",
       "    <tr>\n",
       "      <th>3</th>\n",
       "      <td>Power Generation</td>\n",
       "      <td>[Generator, Turbine]</td>\n",
       "    </tr>\n",
       "    <tr>\n",
       "      <th>4</th>\n",
       "      <td>Cooling</td>\n",
       "      <td>[Chiller, Cooler]</td>\n",
       "    </tr>\n",
       "    <tr>\n",
       "      <th>5</th>\n",
       "      <td>Drying</td>\n",
       "      <td>[Dryer]</td>\n",
       "    </tr>\n",
       "  </tbody>\n",
       "</table>\n",
       "</div>"
      ],
      "text/plain": [
       "  equipment_group_name                              equipments\n",
       "0      Heat Generation               [Boiler, Furnace, Heater]\n",
       "1    Material Handling                       [Conveyor, Mixer]\n",
       "2       Fluid Movement  [Compressor, Pump, Valve, Fan, Blower]\n",
       "3     Power Generation                    [Generator, Turbine]\n",
       "4              Cooling                       [Chiller, Cooler]\n",
       "5               Drying                                 [Dryer]"
      ]
     },
     "execution_count": 56,
     "metadata": {},
     "output_type": "execute_result"
    }
   ],
   "source": [
    "import pandas as pd\n",
    "pd.DataFrame([dict(result) for result in results.equipment_groups])"
   ]
  },
  {
   "cell_type": "code",
   "execution_count": null,
   "metadata": {},
   "outputs": [],
   "source": []
  }
 ],
 "metadata": {
  "kernelspec": {
   "display_name": "myenv",
   "language": "python",
   "name": "python3"
  },
  "language_info": {
   "codemirror_mode": {
    "name": "ipython",
    "version": 3
   },
   "file_extension": ".py",
   "mimetype": "text/x-python",
   "name": "python",
   "nbconvert_exporter": "python",
   "pygments_lexer": "ipython3",
   "version": "3.11.0"
  }
 },
 "nbformat": 4,
 "nbformat_minor": 2
}
