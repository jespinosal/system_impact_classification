{
 "cells": [
  {
   "cell_type": "code",
   "execution_count": 36,
   "metadata": {},
   "outputs": [],
   "source": [
    "#import sys\n",
    "#sys.path.append('c:/Users/Jonathan_Espinosa/Projects/novartis/system_impact_classification')\n",
    "#sys.path.append('c:/Users/Jonathan_Espinosa/Projects/novartis/system_impact_classification/data_processed')"
   ]
  },
  {
   "cell_type": "code",
   "execution_count": 1,
   "metadata": {},
   "outputs": [
    {
     "name": "stdout",
     "output_type": "stream",
     "text": [
      "c:\\Users\\Jonathan_Espinosa\\Projects\\novartis\\system_impact_classification\\playground\n",
      "c:\\Users\\Jonathan_Espinosa\\Projects\\novartis\\system_impact_classification\n"
     ]
    }
   ],
   "source": [
    "import os\n",
    "print(os.getcwd())\n",
    "os.chdir(\"c:/Users/Jonathan_Espinosa/Projects/novartis/system_impact_classification\")\n",
    "print(os.getcwd())"
   ]
  },
  {
   "cell_type": "code",
   "execution_count": 2,
   "metadata": {},
   "outputs": [],
   "source": [
    "import os\n",
    "import pandas as pd\n",
    "from langchain_core.messages import HumanMessage\n",
    "from langchain_openai import AzureChatOpenAI\n",
    "from dotenv import load_dotenv\n",
    "from config import config"
   ]
  },
  {
   "cell_type": "code",
   "execution_count": null,
   "metadata": {},
   "outputs": [],
   "source": [
    "load_dotenv()"
   ]
  },
  {
   "cell_type": "code",
   "execution_count": 102,
   "metadata": {},
   "outputs": [],
   "source": [
    "llm = AzureChatOpenAI(\n",
    "    temperature=0,\n",
    "    openai_api_version=os.getenv(\"AZURE_OPENAI_API_KEY\"),\n",
    "    azure_deployment=os.getenv(\"AZURE_OPENAI_CHAT_DEPLOYMENT_NAME\"),\n",
    "    azure_endpoint=os.getenv(\"AZURE_OPENAI_ENDPOINT\"),\n",
    "    api_version= os.getenv(\"AZURE_OPENAI_API_VERSION\"))\n"
   ]
  },
  {
   "cell_type": "code",
   "execution_count": 103,
   "metadata": {},
   "outputs": [],
   "source": [
    "#  Load tables given paths\n",
    "path_map_equipment_groups = os.path.join(config['folder_data_processed'], config['filename_map_equipment_groups'])\n",
    "path_equipment_group_probs = os.path.join(config['folder_data_processed'], config['filename_equipment_group_probs'])\n",
    "\n",
    "df_map_equipment_groups = pd.read_csv(path_map_equipment_groups)\n",
    "df_equipment_group_probs = pd.read_csv(path_equipment_group_probs)\n",
    "\n",
    "# Get most similar group_name based on customer queryc\n",
    "# Options: from langchain_experimental.agents import create_pandas_dataframe_agent (tp provide user more flexibility for agg/queries)"
   ]
  },
  {
   "cell_type": "code",
   "execution_count": 119,
   "metadata": {},
   "outputs": [
    {
     "data": {
      "text/plain": [
       "'Heating, Cooling, Power Generation, Material Handling, Air Handling, Drying'"
      ]
     },
     "execution_count": 119,
     "metadata": {},
     "output_type": "execute_result"
    }
   ],
   "source": [
    "# @todo add fallback category\n",
    "str_equipment_group_categories = \", \".join(df_map_equipment_groups['equipment_group_name'].values)\n",
    "str_equipment_group_categories"
   ]
  },
  {
   "cell_type": "code",
   "execution_count": 105,
   "metadata": {},
   "outputs": [
    {
     "data": {
      "text/plain": [
       "\"equipment_group_name                             equipments\\n             Heating        ['Boiler', 'Furnace', 'Heater']\\n             Cooling                  ['Chiller', 'Cooler']\\n    Power Generation               ['Generator', 'Turbine']\\n   Material Handling ['Conveyor', 'Mixer', 'Pump', 'Valve']\\n        Air Handling                      ['Fan', 'Blower']\\n              Drying                              ['Dryer']\""
      ]
     },
     "execution_count": 105,
     "metadata": {},
     "output_type": "execute_result"
    }
   ],
   "source": [
    "str_map_equipment_groups = df_map_equipment_groups.to_string(index=False)\n",
    "str_map_equipment_groups"
   ]
  },
  {
   "cell_type": "code",
   "execution_count": 127,
   "metadata": {},
   "outputs": [],
   "source": [
    "from langchain_core.prompts import PromptTemplate\n",
    "from pydantic import BaseModel, Field\n",
    "from langchain.output_parsers import PydanticOutputParser \n",
    "\n",
    "class EquipmentGroupName(BaseModel):\n",
    "    \"\"\"\n",
    "        This class is going to capture the classification result of 'New equipment' on 'equipment_group_name categories' and the classification score.\n",
    "    \"\"\"\n",
    "    equipment_group_name : str = Field(description=\"Classified category from equipment_group_name\") # default='Unknown'\n",
    "    new_equipment: str  = Field(description=\"Equipment name from 'New quipment' that belong to equipment_group_name\")\n",
    "    classification_score: int = Field(ge=0, le=100, description=\"Confidence level of equipment_group_name classification\", default=0)\n",
    "\n",
    "output_parser = PydanticOutputParser(pydantic_object = EquipmentGroupName)\n",
    "output_format_instructions = output_parser.get_format_instructions()\n",
    "\n",
    "prompt_template = \"\"\"You are an expert in manufacturing, your goal is to classify new equipment into an existing equipment group.\n",
    "Be flexible and consider that the equipment name on 'New equipment' could have word variations like plural, synonym or misspelling.\n",
    "'New equipment' should match one of the following 'equipment_group_name categories': {equipment_group_categories}.\n",
    "\n",
    "{output_format_instructions}\n",
    "\n",
    "'New equipment':\n",
    "{user_equipment}\n",
    "\n",
    "For the classification task, take into consideration similar names on 'equipments' column on the following table:\n",
    "{map_equipment_groups}\n",
    "\n",
    "\"\"\"\n",
    "\n",
    "prompt = PromptTemplate(template=prompt_template, variables = {'user_equipment','map_equipment_groups', 'output_format_instructions', 'equipment_group_categories'}) # @todo add cols as variables"
   ]
  },
  {
   "cell_type": "code",
   "execution_count": 98,
   "metadata": {},
   "outputs": [],
   "source": [
    "# print(output_format_instructions)"
   ]
  },
  {
   "cell_type": "code",
   "execution_count": 120,
   "metadata": {},
   "outputs": [
    {
     "name": "stdout",
     "output_type": "stream",
     "text": [
      "equipment_group_name='Cooling' new_equipment='Main Cooler' classification_score=80\n"
     ]
    }
   ],
   "source": [
    "chain = prompt | llm | output_parser\n",
    "\n",
    "user_equipment = 'Main Cooler' \n",
    "# Test cases  on the table :  Chiller, Cooler, Conveyor, Bolier \n",
    "# Test cases outside the table: Bolier, Boliers,  Main Cooler, Freezer,\n",
    "\n",
    "result = chain.invoke({'user_equipment': user_equipment,\n",
    "                    'map_equipment_groups':  str_map_equipment_groups,\n",
    "                    'output_format_instructions': output_format_instructions,\n",
    "                    'equipment_group_categories': str_equipment_group_categories,\n",
    "                    })\n",
    "print(result)"
   ]
  },
  {
   "cell_type": "code",
   "execution_count": 118,
   "metadata": {},
   "outputs": [
    {
     "data": {
      "text/html": [
       "<div>\n",
       "<style scoped>\n",
       "    .dataframe tbody tr th:only-of-type {\n",
       "        vertical-align: middle;\n",
       "    }\n",
       "\n",
       "    .dataframe tbody tr th {\n",
       "        vertical-align: top;\n",
       "    }\n",
       "\n",
       "    .dataframe thead th {\n",
       "        text-align: right;\n",
       "    }\n",
       "</style>\n",
       "<table border=\"1\" class=\"dataframe\">\n",
       "  <thead>\n",
       "    <tr style=\"text-align: right;\">\n",
       "      <th></th>\n",
       "      <th>equipment_group_name</th>\n",
       "      <th>Criteria 1</th>\n",
       "      <th>Criteria 2</th>\n",
       "      <th>Criteria 3</th>\n",
       "      <th>Criteria 4</th>\n",
       "      <th>Criteria 5</th>\n",
       "      <th>Criteria 6</th>\n",
       "      <th>Criteria 7</th>\n",
       "      <th>Criteria 8a</th>\n",
       "      <th>Criteria 8b</th>\n",
       "      <th>equipment_name</th>\n",
       "    </tr>\n",
       "  </thead>\n",
       "  <tbody>\n",
       "    <tr>\n",
       "      <th>1</th>\n",
       "      <td>Cooling</td>\n",
       "      <td>1.0</td>\n",
       "      <td>0.0</td>\n",
       "      <td>1.0</td>\n",
       "      <td>0.0</td>\n",
       "      <td>1.0</td>\n",
       "      <td>0.0</td>\n",
       "      <td>1.0</td>\n",
       "      <td>1.0</td>\n",
       "      <td>0.0</td>\n",
       "      <td>Main Cooler</td>\n",
       "    </tr>\n",
       "  </tbody>\n",
       "</table>\n",
       "</div>"
      ],
      "text/plain": [
       "  equipment_group_name  Criteria 1  Criteria 2  Criteria 3  Criteria 4  \\\n",
       "1              Cooling         1.0         0.0         1.0         0.0   \n",
       "\n",
       "   Criteria 5  Criteria 6  Criteria 7  Criteria 8a  Criteria 8b equipment_name  \n",
       "1         1.0         0.0         1.0          1.0          0.0    Main Cooler  "
      ]
     },
     "execution_count": 118,
     "metadata": {},
     "output_type": "execute_result"
    }
   ],
   "source": [
    "df_equipment_probs = df_equipment_group_probs.copy()\n",
    "equipment_group_name = result.equipment_group_name\n",
    "df_equipment_probs = df_equipment_probs.loc[df_equipment_probs['equipment_group_name']==equipment_group_name]\n",
    "df_equipment_probs['equipment_name'] = user_equipment\n",
    "df_equipment_probs"
   ]
  },
  {
   "cell_type": "code",
   "execution_count": 130,
   "metadata": {},
   "outputs": [
    {
     "name": "stdout",
     "output_type": "stream",
     "text": [
      "equipment_group_name='Cooling' new_equipment='Main Cooler' classification_score=80\n"
     ]
    }
   ],
   "source": [
    "partial_prompt =  prompt.partial(map_equipment_groups=str_map_equipment_groups,\n",
    "                                 output_format_instructions=output_format_instructions,\n",
    "                                equipment_group_categories=str_equipment_group_categories,\n",
    "                                 )\n",
    "\n",
    "chain = partial_prompt | llm | output_parser\n",
    "\n",
    "user_equipment = 'Main Cooler' \n",
    "# Test cases  on the table :  Chiller, Cooler, Conveyor, Bolier \n",
    "# Test cases outside the table: Bolier, Boliers,  Main Cooler, Freezer,\n",
    "\n",
    "result = chain.invoke({'user_equipment': user_equipment})\n",
    "print(result)"
   ]
  },
  {
   "cell_type": "code",
   "execution_count": null,
   "metadata": {},
   "outputs": [],
   "source": []
  }
 ],
 "metadata": {
  "kernelspec": {
   "display_name": "myenv",
   "language": "python",
   "name": "python3"
  },
  "language_info": {
   "codemirror_mode": {
    "name": "ipython",
    "version": 3
   },
   "file_extension": ".py",
   "mimetype": "text/x-python",
   "name": "python",
   "nbconvert_exporter": "python",
   "pygments_lexer": "ipython3",
   "version": "3.11.0"
  }
 },
 "nbformat": 4,
 "nbformat_minor": 2
}
